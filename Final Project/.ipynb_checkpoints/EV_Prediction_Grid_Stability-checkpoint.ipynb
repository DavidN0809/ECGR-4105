{
 "cells": [
  {
   "cell_type": "code",
   "execution_count": null,
   "id": "d0d0028a",
   "metadata": {},
   "outputs": [],
   "source": [
    "import numpy as np\n",
    "import pandas as pd\n",
    "import torch\n",
    "from sklearn.model_selection import train_test_split\n",
    "\n",
    "from matplotlib import pyplot as plt\n",
    "import torch.nn as nn\n",
    "import seaborn as sns\n",
    "from sklearn.preprocessing import StandardScaler\n",
    "from collections import OrderedDict\n",
    "import torch.optim as optim\n",
    "import warnings\n",
    "warnings.filterwarnings(\"ignore\")\n",
    "from sklearn.linear_model import LinearRegression\n",
    "from sklearn.metrics import mean_squared_error, mean_absolute_error\n",
    "from sklearn import preprocessing\n",
    "\n",
    "import numpy as np\n",
    "import tensorflow as tf\n",
    "from tensorflow import keras\n",
    "from tensorflow.keras import layers\n",
    "import IPython\n",
    "import IPython.display\n",
    "import datetime\n",
    "from sklearn import linear_model\n",
    "from keras.models import Sequential\n",
    "from keras.layers import CuDNNLSTM, Dense, Dropout, LSTM\n",
    "from keras.optimizers import Adam"
   ]
  },
  {
   "cell_type": "code",
   "execution_count": null,
   "id": "154ba0d4",
   "metadata": {
    "scrolled": false
   },
   "outputs": [],
   "source": [
    "df = pd.DataFrame(pd.read_csv('annual_generation_WA.csv'))\n",
    "redf = pd.DataFrame(pd.read_csv('renewable_generation_WA.csv'))\n",
    "nrdf = pd.DataFrame(pd.read_csv('nonrenewable_generation_WA.csv'))\n",
    "#df.pop(\"Solar Thermal and Photovoltaic\")\n",
    "df"
   ]
  },
  {
   "cell_type": "code",
   "execution_count": null,
   "id": "b9fc0dcf",
   "metadata": {
    "scrolled": false
   },
   "outputs": [],
   "source": [
    "df_testing = df.Total\n",
    "df_testing"
   ]
  },
  {
   "cell_type": "code",
   "execution_count": null,
   "id": "da607815",
   "metadata": {},
   "outputs": [],
   "source": [
    "df"
   ]
  },
  {
   "cell_type": "code",
   "execution_count": null,
   "id": "24250c64",
   "metadata": {},
   "outputs": [],
   "source": [
    "x= np.arange(32) + 1990\n",
    "y = df.Total.values\n",
    "yre = redf.Total.values\n",
    "ynr = nrdf.Total.values\n",
    "x"
   ]
  },
  {
   "cell_type": "code",
   "execution_count": null,
   "id": "1d1ed24c",
   "metadata": {},
   "outputs": [],
   "source": [
    "dfy = df\n",
    "dfy['Year'] = np.arange(1990,2022)\n",
    "\n",
    "redfy = redf\n",
    "redfy['Year'] = np.arange(1990,2022)\n",
    "\n",
    "nrdfy = nrdf\n",
    "nrdfy['Year'] = np.arange(1990,2022)\n",
    "nrdfy"
   ]
  },
  {
   "cell_type": "code",
   "execution_count": null,
   "id": "3662a72c",
   "metadata": {
    "scrolled": false
   },
   "outputs": [],
   "source": [
    "fig=plt.figure(figsize = (10, 7))\n",
    "bp = sns.barplot(y=\"Total\", x = 'Year',data=dfy)\n",
    "bp.set_yscale(\"log\")\n",
    "plt.title('Year vs Total Grid Capacity')\n",
    "plt.xlabel('Year')\n",
    "plt.ylabel('Capacity in MWH')\n",
    "plt.xticks(rotation=45)\n",
    "plt.show()\n"
   ]
  },
  {
   "cell_type": "code",
   "execution_count": null,
   "id": "1d39be16",
   "metadata": {
    "scrolled": false
   },
   "outputs": [],
   "source": [
    "fig=plt.figure(figsize = (10, 7))\n",
    "bp = sns.barplot(y=\"Total\", x = 'Year',data=redfy)\n",
    "bp.set_yscale(\"log\")\n",
    "plt.title('Year vs Total Renewable Capacity')\n",
    "plt.xlabel('Year')\n",
    "plt.ylabel('Capacity in MWH')\n",
    "plt.xticks(rotation=45)\n",
    "plt.show()"
   ]
  },
  {
   "cell_type": "code",
   "execution_count": null,
   "id": "4447c013",
   "metadata": {},
   "outputs": [],
   "source": [
    "fig=plt.figure(figsize = (10, 7))\n",
    "bp = sns.barplot(y=\"Total\", x = 'Year',data=nrdfy)\n",
    "bp.set_yscale(\"log\")\n",
    "plt.title('Year vs Total Nonrenewable Capacity')\n",
    "plt.xlabel('Year')\n",
    "plt.ylabel('Capacity in MWH')\n",
    "plt.xticks(rotation=45)\n",
    "plt.show()"
   ]
  },
  {
   "cell_type": "code",
   "execution_count": null,
   "id": "90b7d3a8",
   "metadata": {},
   "outputs": [],
   "source": [
    "X=x\n",
    "\n",
    "X=X.reshape(-1,1)\n",
    "y=y.reshape(-1,1)\n",
    "yre=yre.reshape(-1,1)\n",
    "ynr=ynr.reshape(-1,1)\n",
    "\n",
    "X_train, X_test, y_train, y_test = train_test_split(X, y, test_size = 0.2, random_state = 0)\n",
    "X_train, X_test, yre_train, yre_test = train_test_split(X, yre, test_size = 0.2, random_state = 0)\n",
    "X_train, X_test, ynr_train, ynr_test = train_test_split(X, ynr, test_size = 0.2, random_state = 0)"
   ]
  },
  {
   "cell_type": "code",
   "execution_count": null,
   "id": "e4845bcf",
   "metadata": {},
   "outputs": [],
   "source": [
    "from sklearn.preprocessing import MinMaxScaler\n",
    "\n",
    "min_max_scaler = MinMaxScaler().fit(X_test)\n",
    "X_norm = min_max_scaler.transform(X)"
   ]
  },
  {
   "cell_type": "code",
   "execution_count": null,
   "id": "866b6e91",
   "metadata": {},
   "outputs": [],
   "source": [
    "from sklearn.preprocessing import StandardScaler\n",
    "sc_x = StandardScaler()\n",
    "\n",
    "xtrain = sc_x.fit_transform(X_train) \n",
    "xtest = sc_x.transform(X_test)"
   ]
  },
  {
   "cell_type": "code",
   "execution_count": null,
   "id": "b27eca7f",
   "metadata": {},
   "outputs": [],
   "source": [
    "#from sklearn.linear_model import LogisticRegression\n",
    "#classifier = LogisticRegression(random_state = 0)\n",
    "#classifier.fit(X_train, y_train)\n",
    "from sklearn import datasets, linear_model, metrics\n",
    "\n",
    "from sklearn.linear_model import LinearRegression\n",
    "from sklearn.metrics import mean_squared_error, mean_absolute_error\n",
    "from sklearn import preprocessing\n",
    "from sklearn import linear_model\n",
    "from sklearn.metrics import r2_score\n",
    "\n",
    "classifier = linear_model.LinearRegression()\n",
    "classifier.fit(X_train, y_train)"
   ]
  },
  {
   "cell_type": "code",
   "execution_count": null,
   "id": "57d346b8",
   "metadata": {},
   "outputs": [],
   "source": [
    "classifier.predict(X_train)"
   ]
  },
  {
   "cell_type": "code",
   "execution_count": null,
   "id": "56569f58",
   "metadata": {},
   "outputs": [],
   "source": [
    "#x=X_train\n",
    "#y=y_train\n",
    "n = np.size(x)\n",
    "\n",
    "y_pred = classifier.predict(X)\n",
    "    \n",
    "fig=plt.figure(figsize = (15,6))\n",
    "plt.title('Grid Capacity by Year')\n",
    "plt.plot(x,y)\n",
    "plt.plot(X, y_pred, color = 'green')\n",
    "plt.xlabel('Year')\n",
    "plt.ylabel('Capacity in MWH')"
   ]
  },
  {
   "cell_type": "code",
   "execution_count": null,
   "id": "b6012021",
   "metadata": {},
   "outputs": [],
   "source": [
    "print('Variance score: {}'.format(classifier.score(X_test, y_test)))"
   ]
  },
  {
   "cell_type": "code",
   "execution_count": null,
   "id": "d6edadd9",
   "metadata": {},
   "outputs": [],
   "source": [
    "# model evaluation\n",
    "mse=mean_squared_error(y,y_pred)\n",
    "  \n",
    "rmse = np.sqrt(mean_squared_error(y, y_pred))\n",
    "r2 = r2_score(y, y_pred)\n",
    "  \n",
    "# printing values\n",
    "print('Slope:' ,classifier.coef_)\n",
    "print('Intercept:', classifier.intercept_)\n",
    "print('MSE:',mse)\n",
    "print('Root mean squared error: ', rmse)\n",
    "print('R2 score: ', r2)"
   ]
  },
  {
   "cell_type": "code",
   "execution_count": null,
   "id": "62067129",
   "metadata": {},
   "outputs": [],
   "source": [
    "def avgdiff(a,b):\n",
    "    c = abs(a-b)\n",
    "    c = np.average(c)\n",
    "    return c"
   ]
  },
  {
   "cell_type": "code",
   "execution_count": null,
   "id": "716c9472",
   "metadata": {},
   "outputs": [],
   "source": [
    "print('Mean Error: {}' .format(np.average(abs(y_pred-y))))\n",
    "print('MSE:',mse)\n",
    "print('Root mean squared error: ', rmse)\n",
    "print('R2 score: ', r2)"
   ]
  },
  {
   "cell_type": "code",
   "execution_count": null,
   "id": "1c1f2b0e",
   "metadata": {
    "scrolled": true
   },
   "outputs": [],
   "source": [
    "c = avgdiff(y_pred, y)\n",
    "c"
   ]
  },
  {
   "cell_type": "code",
   "execution_count": null,
   "id": "84e2460c",
   "metadata": {},
   "outputs": [],
   "source": [
    "y_pred_high = y_pred + c\n",
    "y_pred_low = y_pred - c"
   ]
  },
  {
   "cell_type": "code",
   "execution_count": null,
   "id": "d9808f08",
   "metadata": {},
   "outputs": [],
   "source": [
    "fig=plt.figure(figsize = (15,6))\n",
    "plt.title('Grid Capacity by Year')\n",
    "plt.plot(x,y, label = 'Actual Capacity')\n",
    "plt.plot(X, y_pred, color = 'green', label = 'Prediction')\n",
    "plt.plot(X, y_pred_high, 'g--', label ='Prediction +/- ME')\n",
    "plt.plot(X, y_pred_low, 'g--')\n",
    "plt.legend(loc = 'lower right')\n",
    "plt.xlabel('Year')\n",
    "plt.ylabel('Capacity in MWH')\n",
    "fig.savefig('Grid Capacity', bbox_inches='tight', dpi=150)"
   ]
  },
  {
   "cell_type": "code",
   "execution_count": null,
   "id": "101355c1",
   "metadata": {
    "scrolled": false
   },
   "outputs": [],
   "source": [
    "Xfuture = np.arange(0,50) + 2022\n",
    "\n",
    "Xfuture=Xfuture.reshape(-1,1)\n",
    "\n",
    "futurepredict = np.append(y, classifier.predict(Xfuture))\n",
    "futurepredict= futurepredict.reshape(-1,1)"
   ]
  },
  {
   "cell_type": "code",
   "execution_count": null,
   "id": "c537e5f0",
   "metadata": {},
   "outputs": [],
   "source": [
    "df_output = pd.DataFrame(futurepredict, columns = [\"Predicted_MWH\"])\n",
    "df_output[\"Year\"] = np.arange(1990,(1990+82))\n",
    "df_output.to_csv('predicted_grid.csv', index=False)"
   ]
  },
  {
   "cell_type": "code",
   "execution_count": null,
   "id": "5d4a2243",
   "metadata": {},
   "outputs": [],
   "source": [
    "df_output"
   ]
  },
  {
   "cell_type": "code",
   "execution_count": null,
   "id": "02ca0042",
   "metadata": {},
   "outputs": [],
   "source": [
    "classifier.fit(X_train[10:32], y_train[10:32])\n",
    "y_pred = classifier.predict(X)\n",
    "\n",
    "mse=mean_squared_error(y,y_pred)\n",
    "  \n",
    "rmse = np.sqrt(mean_squared_error(y, y_pred))\n",
    "r2 = r2_score(y, y_pred)\n",
    "\n",
    "print('Mean Error: {}' .format(np.average(abs(y_pred-y))))\n",
    "print('MSE:',mse)\n",
    "print('Root mean squared error: ', rmse)\n",
    "print('R2 score: ', r2)\n",
    "\n",
    "c = avgdiff(y_pred, y)\n",
    "\n",
    "y_pred_high = y_pred + c\n",
    "y_pred_low = y_pred - c\n",
    "\n",
    "fig=plt.figure(figsize = (15,6))\n",
    "plt.title('Capacity by Year (Reg 2008-2020)')\n",
    "plt.plot(x,yre, label = 'Actual Capacity')\n",
    "plt.plot(X, yre_pred, color = 'green', label = 'Prediction')\n",
    "plt.plot(X, yre_pred_high, 'g--', label ='Prediction +/- ME')\n",
    "plt.plot(X, yre_pred_low, 'g--')\n",
    "plt.legend(loc = 'lower right')\n",
    "plt.xlabel('Year')\n",
    "plt.ylabel('Capacity in MWH')"
   ]
  },
  {
   "cell_type": "code",
   "execution_count": null,
   "id": "ae890d71",
   "metadata": {},
   "outputs": [],
   "source": [
    "classifier.fit(X_train, yre_train)\n",
    "yre_pred = classifier.predict(X)\n",
    "\n",
    "mse=mean_squared_error(yre,yre_pred)\n",
    "  \n",
    "rmse = np.sqrt(mean_squared_error(yre, yre_pred))\n",
    "r2 = r2_score(yre, yre_pred)\n",
    "\n",
    "print('Mean Error: {}' .format(np.average(abs(yre_pred-yre))))\n",
    "print('MSE:',mse)\n",
    "print('Root mean squared error: ', rmse)\n",
    "print('R2 score: ', r2)\n",
    "\n",
    "c = avgdiff(yre_pred, yre)\n",
    "\n",
    "yre_pred_high = yre_pred + c\n",
    "yre_pred_low = yre_pred - c\n",
    "\n",
    "fig=plt.figure(figsize = (15,6))\n",
    "plt.title('Renewable Capacity by Year')\n",
    "plt.plot(x,yre, label = 'Actual Capacity')\n",
    "plt.plot(X, yre_pred, color = 'green', label = 'Prediction')\n",
    "plt.plot(X, yre_pred_high, 'g--', label ='Prediction +/- ME')\n",
    "plt.plot(X, yre_pred_low, 'g--')\n",
    "plt.legend(loc = 'lower right')\n",
    "plt.xlabel('Year')\n",
    "plt.ylabel('Capacity in MWH')"
   ]
  },
  {
   "cell_type": "code",
   "execution_count": null,
   "id": "0ee59247",
   "metadata": {},
   "outputs": [],
   "source": [
    "classifier.fit(X_train, ynr_train)\n",
    "ynr_pred = classifier.predict(X)\n",
    "\n",
    "mse=mean_squared_error(ynr,ynr_pred)\n",
    "  \n",
    "rmse = np.sqrt(mean_squared_error(ynr, ynr_pred))\n",
    "r2 = r2_score(yre, ynr_pred)\n",
    "\n",
    "print('Mean Error: {}' .format(np.average(abs(ynr_pred-ynr))))\n",
    "print('MSE:',mse)\n",
    "print('Root mean squared error: ', rmse)\n",
    "print('R2 score: ', r2)\n",
    "\n",
    "c = avgdiff(ynr_pred, ynr)\n",
    "\n",
    "ynr_pred_high = ynr_pred + c\n",
    "ynr_pred_low = ynr_pred - c\n",
    "\n",
    "fig=plt.figure(figsize = (15,6))\n",
    "plt.title('Nonrenewable Capacity by Year')\n",
    "plt.plot(x,ynr, label = 'Actual Capacity')\n",
    "plt.plot(X, ynr_pred, color = 'green', label = 'Prediction')\n",
    "plt.plot(X, ynr_pred_high, 'g--', label ='Prediction +/- ME')\n",
    "plt.plot(X, ynr_pred_low, 'g--')\n",
    "plt.legend(loc = 'lower right')\n",
    "plt.xlabel('Year')\n",
    "plt.ylabel('Capacity in MWH')"
   ]
  },
  {
   "cell_type": "code",
   "execution_count": null,
   "id": "e4a18291",
   "metadata": {},
   "outputs": [],
   "source": [
    "df.pop('Year')\n",
    "df.pop('Total')"
   ]
  },
  {
   "cell_type": "code",
   "execution_count": null,
   "id": "bde61c7d",
   "metadata": {},
   "outputs": [],
   "source": [
    "#splitting data\n",
    "#column_indices = {name: i for i, name in enumerate(df.columns)}\n",
    "n = len(df)\n",
    "train_df = df[0:int(n*0.8)] \n",
    "test_df = df[int(n*0.8):]\n",
    "num_features = df.shape[-1]\n",
    "ntrain = len(train_df)\n",
    "df"
   ]
  }
 ],
 "metadata": {
  "kernelspec": {
   "display_name": "Python 3 (ipykernel)",
   "language": "python",
   "name": "python3"
  },
  "language_info": {
   "codemirror_mode": {
    "name": "ipython",
    "version": 3
   },
   "file_extension": ".py",
   "mimetype": "text/x-python",
   "name": "python",
   "nbconvert_exporter": "python",
   "pygments_lexer": "ipython3",
   "version": "3.9.15"
  }
 },
 "nbformat": 4,
 "nbformat_minor": 5
}
