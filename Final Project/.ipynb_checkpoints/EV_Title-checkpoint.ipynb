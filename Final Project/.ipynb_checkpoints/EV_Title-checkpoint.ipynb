{
 "cells": [
  {
   "cell_type": "code",
   "execution_count": 98,
   "id": "af33775d",
   "metadata": {},
   "outputs": [],
   "source": [
    "import numpy as np\n",
    "import pandas as pd\n",
    "import torch\n",
    "from sklearn.model_selection import train_test_split\n",
    "import tensorflow as tf\n",
    "from matplotlib import pyplot as plt\n",
    "import torch.nn as nn\n",
    "import seaborn as sns\n",
    "from sklearn.preprocessing import StandardScaler\n",
    "from collections import OrderedDict\n",
    "import torch.optim as optim\n",
    "\n",
    "from sklearn.linear_model import LinearRegression\n",
    "from sklearn import preprocessing, svm\n",
    "\n",
    "import warnings\n",
    "warnings.filterwarnings(\"ignore\")\n",
    "\n",
    "from sklearn.decomposition import PCA\n",
    "\n",
    "from sklearn import datasets, linear_model, metrics\n",
    "from sklearn.linear_model import LinearRegression\n",
    "from sklearn.metrics import mean_squared_error, mean_absolute_error\n",
    "from sklearn import preprocessing\n",
    "from sklearn.metrics import r2_score\n"
   ]
  },
  {
   "cell_type": "code",
   "execution_count": 99,
   "id": "1ac71105",
   "metadata": {},
   "outputs": [
    {
     "data": {
      "text/html": [
       "<div>\n",
       "<style scoped>\n",
       "    .dataframe tbody tr th:only-of-type {\n",
       "        vertical-align: middle;\n",
       "    }\n",
       "\n",
       "    .dataframe tbody tr th {\n",
       "        vertical-align: top;\n",
       "    }\n",
       "\n",
       "    .dataframe thead th {\n",
       "        text-align: right;\n",
       "    }\n",
       "</style>\n",
       "<table border=\"1\" class=\"dataframe\">\n",
       "  <thead>\n",
       "    <tr style=\"text-align: right;\">\n",
       "      <th></th>\n",
       "      <th>Clean Alternative Fuel Vehicle Type</th>\n",
       "      <th>VIN (1-10)</th>\n",
       "      <th>Model Year</th>\n",
       "      <th>Make</th>\n",
       "      <th>Model</th>\n",
       "      <th>New or Used Vehicle</th>\n",
       "      <th>Sale Price</th>\n",
       "      <th>DOL Transaction Date</th>\n",
       "      <th>Transaction Type</th>\n",
       "      <th>Transaction Year</th>\n",
       "      <th>...</th>\n",
       "      <th>Legislative District</th>\n",
       "      <th>2019 HB 2042 Clean Alternative Fuel Vehicle (CAFV) Eligibility</th>\n",
       "      <th>Meets 2019 HB 2042 Electric Range Requirement</th>\n",
       "      <th>Meets 2019 HB 2042 Sale Date Requirement</th>\n",
       "      <th>Meets 2019 HB 2042 Sale Price/Value Requirement</th>\n",
       "      <th>Odometer Reading</th>\n",
       "      <th>Odometer Code</th>\n",
       "      <th>Transportation Electrification Fee Paid</th>\n",
       "      <th>Hybrid Vehicle Electrification Fee Paid</th>\n",
       "      <th>2020 Census Tract</th>\n",
       "    </tr>\n",
       "  </thead>\n",
       "  <tbody>\n",
       "    <tr>\n",
       "      <th>0</th>\n",
       "      <td>Battery Electric Vehicle (BEV)</td>\n",
       "      <td>WMWXP3C0XM</td>\n",
       "      <td>2021</td>\n",
       "      <td>MINI</td>\n",
       "      <td>Hardtop</td>\n",
       "      <td>Used</td>\n",
       "      <td>0</td>\n",
       "      <td>August 04 2022</td>\n",
       "      <td>Registration Renewal</td>\n",
       "      <td>2022</td>\n",
       "      <td>...</td>\n",
       "      <td>45.0</td>\n",
       "      <td>TRANSACTION NOT ELIGIBLE: Non-sale, registrati...</td>\n",
       "      <td>True</td>\n",
       "      <td>False</td>\n",
       "      <td>False</td>\n",
       "      <td>0</td>\n",
       "      <td>Odometer reading is not collected at time of r...</td>\n",
       "      <td>Yes</td>\n",
       "      <td>No</td>\n",
       "      <td>5.303302e+10</td>\n",
       "    </tr>\n",
       "    <tr>\n",
       "      <th>1</th>\n",
       "      <td>Plug-in Hybrid Electric Vehicle (PHEV)</td>\n",
       "      <td>KNDCM3LD1J</td>\n",
       "      <td>2018</td>\n",
       "      <td>KIA</td>\n",
       "      <td>Niro</td>\n",
       "      <td>Used</td>\n",
       "      <td>0</td>\n",
       "      <td>November 19 2021</td>\n",
       "      <td>Registration Renewal</td>\n",
       "      <td>2021</td>\n",
       "      <td>...</td>\n",
       "      <td>36.0</td>\n",
       "      <td>VEHICLE MODEL NOT ELIGIBLE: Low battery range;...</td>\n",
       "      <td>False</td>\n",
       "      <td>False</td>\n",
       "      <td>False</td>\n",
       "      <td>0</td>\n",
       "      <td>Odometer reading is not collected at time of r...</td>\n",
       "      <td>No</td>\n",
       "      <td>Yes</td>\n",
       "      <td>5.303300e+10</td>\n",
       "    </tr>\n",
       "    <tr>\n",
       "      <th>2</th>\n",
       "      <td>Plug-in Hybrid Electric Vehicle (PHEV)</td>\n",
       "      <td>KNDCM3LD1J</td>\n",
       "      <td>2018</td>\n",
       "      <td>KIA</td>\n",
       "      <td>Niro</td>\n",
       "      <td>New</td>\n",
       "      <td>26999</td>\n",
       "      <td>December 31 2018</td>\n",
       "      <td>Original Title</td>\n",
       "      <td>2018</td>\n",
       "      <td>...</td>\n",
       "      <td>36.0</td>\n",
       "      <td>VEHICLE MODEL NOT ELIGIBLE: Low battery range;...</td>\n",
       "      <td>False</td>\n",
       "      <td>False</td>\n",
       "      <td>True</td>\n",
       "      <td>17</td>\n",
       "      <td>Actual Mileage</td>\n",
       "      <td>Not Applicable</td>\n",
       "      <td>Not Applicable</td>\n",
       "      <td>5.303300e+10</td>\n",
       "    </tr>\n",
       "    <tr>\n",
       "      <th>3</th>\n",
       "      <td>Plug-in Hybrid Electric Vehicle (PHEV)</td>\n",
       "      <td>KNDCM3LD1J</td>\n",
       "      <td>2018</td>\n",
       "      <td>KIA</td>\n",
       "      <td>Niro</td>\n",
       "      <td>New</td>\n",
       "      <td>0</td>\n",
       "      <td>December 31 2018</td>\n",
       "      <td>Original Registration</td>\n",
       "      <td>2018</td>\n",
       "      <td>...</td>\n",
       "      <td>36.0</td>\n",
       "      <td>VEHICLE MODEL NOT ELIGIBLE: Low battery range;...</td>\n",
       "      <td>False</td>\n",
       "      <td>False</td>\n",
       "      <td>False</td>\n",
       "      <td>0</td>\n",
       "      <td>Odometer reading is not collected at time of r...</td>\n",
       "      <td>No</td>\n",
       "      <td>No</td>\n",
       "      <td>5.303300e+10</td>\n",
       "    </tr>\n",
       "    <tr>\n",
       "      <th>4</th>\n",
       "      <td>Plug-in Hybrid Electric Vehicle (PHEV)</td>\n",
       "      <td>KNDCM3LD1J</td>\n",
       "      <td>2018</td>\n",
       "      <td>KIA</td>\n",
       "      <td>Niro</td>\n",
       "      <td>Used</td>\n",
       "      <td>0</td>\n",
       "      <td>December 23 2019</td>\n",
       "      <td>Registration Renewal</td>\n",
       "      <td>2019</td>\n",
       "      <td>...</td>\n",
       "      <td>36.0</td>\n",
       "      <td>VEHICLE MODEL NOT ELIGIBLE: Low battery range;...</td>\n",
       "      <td>False</td>\n",
       "      <td>False</td>\n",
       "      <td>False</td>\n",
       "      <td>0</td>\n",
       "      <td>Odometer reading is not collected at time of r...</td>\n",
       "      <td>No</td>\n",
       "      <td>Yes</td>\n",
       "      <td>5.303300e+10</td>\n",
       "    </tr>\n",
       "  </tbody>\n",
       "</table>\n",
       "<p>5 rows × 31 columns</p>\n",
       "</div>"
      ],
      "text/plain": [
       "      Clean Alternative Fuel Vehicle Type  VIN (1-10)  Model Year  Make  \\\n",
       "0          Battery Electric Vehicle (BEV)  WMWXP3C0XM        2021  MINI   \n",
       "1  Plug-in Hybrid Electric Vehicle (PHEV)  KNDCM3LD1J        2018   KIA   \n",
       "2  Plug-in Hybrid Electric Vehicle (PHEV)  KNDCM3LD1J        2018   KIA   \n",
       "3  Plug-in Hybrid Electric Vehicle (PHEV)  KNDCM3LD1J        2018   KIA   \n",
       "4  Plug-in Hybrid Electric Vehicle (PHEV)  KNDCM3LD1J        2018   KIA   \n",
       "\n",
       "     Model New or Used Vehicle  Sale Price DOL Transaction Date  \\\n",
       "0  Hardtop                Used           0       August 04 2022   \n",
       "1     Niro                Used           0     November 19 2021   \n",
       "2     Niro                 New       26999     December 31 2018   \n",
       "3     Niro                 New           0     December 31 2018   \n",
       "4     Niro                Used           0     December 23 2019   \n",
       "\n",
       "        Transaction Type  Transaction Year  ... Legislative District  \\\n",
       "0   Registration Renewal              2022  ...                 45.0   \n",
       "1   Registration Renewal              2021  ...                 36.0   \n",
       "2         Original Title              2018  ...                 36.0   \n",
       "3  Original Registration              2018  ...                 36.0   \n",
       "4   Registration Renewal              2019  ...                 36.0   \n",
       "\n",
       "  2019 HB 2042 Clean Alternative Fuel Vehicle (CAFV) Eligibility  \\\n",
       "0  TRANSACTION NOT ELIGIBLE: Non-sale, registrati...               \n",
       "1  VEHICLE MODEL NOT ELIGIBLE: Low battery range;...               \n",
       "2  VEHICLE MODEL NOT ELIGIBLE: Low battery range;...               \n",
       "3  VEHICLE MODEL NOT ELIGIBLE: Low battery range;...               \n",
       "4  VEHICLE MODEL NOT ELIGIBLE: Low battery range;...               \n",
       "\n",
       "  Meets 2019 HB 2042 Electric Range Requirement  \\\n",
       "0                                          True   \n",
       "1                                         False   \n",
       "2                                         False   \n",
       "3                                         False   \n",
       "4                                         False   \n",
       "\n",
       "   Meets 2019 HB 2042 Sale Date Requirement  \\\n",
       "0                                     False   \n",
       "1                                     False   \n",
       "2                                     False   \n",
       "3                                     False   \n",
       "4                                     False   \n",
       "\n",
       "   Meets 2019 HB 2042 Sale Price/Value Requirement  Odometer Reading  \\\n",
       "0                                            False                 0   \n",
       "1                                            False                 0   \n",
       "2                                             True                17   \n",
       "3                                            False                 0   \n",
       "4                                            False                 0   \n",
       "\n",
       "                                       Odometer Code  \\\n",
       "0  Odometer reading is not collected at time of r...   \n",
       "1  Odometer reading is not collected at time of r...   \n",
       "2                                     Actual Mileage   \n",
       "3  Odometer reading is not collected at time of r...   \n",
       "4  Odometer reading is not collected at time of r...   \n",
       "\n",
       "  Transportation Electrification Fee Paid  \\\n",
       "0                                     Yes   \n",
       "1                                      No   \n",
       "2                          Not Applicable   \n",
       "3                                      No   \n",
       "4                                      No   \n",
       "\n",
       "  Hybrid Vehicle Electrification Fee Paid 2020 Census Tract  \n",
       "0                                      No      5.303302e+10  \n",
       "1                                     Yes      5.303300e+10  \n",
       "2                          Not Applicable      5.303300e+10  \n",
       "3                                      No      5.303300e+10  \n",
       "4                                     Yes      5.303300e+10  \n",
       "\n",
       "[5 rows x 31 columns]"
      ]
     },
     "execution_count": 99,
     "metadata": {},
     "output_type": "execute_result"
    }
   ],
   "source": [
    "device = torch.device(\"cuda:0\")\n",
    "EV_Title = pd.DataFrame(pd.read_csv('Electric_Vehicle_Title_and_Registration_Activity.csv'))\n",
    "EV_Title.head()"
   ]
  },
  {
   "cell_type": "code",
   "execution_count": 100,
   "id": "9a805d05",
   "metadata": {},
   "outputs": [
    {
     "data": {
      "text/html": [
       "<div>\n",
       "<style scoped>\n",
       "    .dataframe tbody tr th:only-of-type {\n",
       "        vertical-align: middle;\n",
       "    }\n",
       "\n",
       "    .dataframe tbody tr th {\n",
       "        vertical-align: top;\n",
       "    }\n",
       "\n",
       "    .dataframe thead th {\n",
       "        text-align: right;\n",
       "    }\n",
       "</style>\n",
       "<table border=\"1\" class=\"dataframe\">\n",
       "  <thead>\n",
       "    <tr style=\"text-align: right;\">\n",
       "      <th></th>\n",
       "      <th>VIN (1-10)</th>\n",
       "      <th>Transaction Type</th>\n",
       "      <th>Transaction Year</th>\n",
       "      <th>Postal Code</th>\n",
       "    </tr>\n",
       "  </thead>\n",
       "  <tbody>\n",
       "    <tr>\n",
       "      <th>0</th>\n",
       "      <td>WMWXP3C0XM</td>\n",
       "      <td>Registration Renewal</td>\n",
       "      <td>2022</td>\n",
       "      <td>98072.0</td>\n",
       "    </tr>\n",
       "    <tr>\n",
       "      <th>1</th>\n",
       "      <td>KNDCM3LD1J</td>\n",
       "      <td>Registration Renewal</td>\n",
       "      <td>2021</td>\n",
       "      <td>98103.0</td>\n",
       "    </tr>\n",
       "    <tr>\n",
       "      <th>2</th>\n",
       "      <td>KNDCM3LD1J</td>\n",
       "      <td>Original Title</td>\n",
       "      <td>2018</td>\n",
       "      <td>98103.0</td>\n",
       "    </tr>\n",
       "    <tr>\n",
       "      <th>3</th>\n",
       "      <td>KNDCM3LD1J</td>\n",
       "      <td>Original Registration</td>\n",
       "      <td>2018</td>\n",
       "      <td>98103.0</td>\n",
       "    </tr>\n",
       "    <tr>\n",
       "      <th>4</th>\n",
       "      <td>KNDCM3LD1J</td>\n",
       "      <td>Registration Renewal</td>\n",
       "      <td>2019</td>\n",
       "      <td>98103.0</td>\n",
       "    </tr>\n",
       "  </tbody>\n",
       "</table>\n",
       "</div>"
      ],
      "text/plain": [
       "   VIN (1-10)       Transaction Type  Transaction Year  Postal Code\n",
       "0  WMWXP3C0XM   Registration Renewal              2022      98072.0\n",
       "1  KNDCM3LD1J   Registration Renewal              2021      98103.0\n",
       "2  KNDCM3LD1J         Original Title              2018      98103.0\n",
       "3  KNDCM3LD1J  Original Registration              2018      98103.0\n",
       "4  KNDCM3LD1J   Registration Renewal              2019      98103.0"
      ]
     },
     "execution_count": 100,
     "metadata": {},
     "output_type": "execute_result"
    }
   ],
   "source": [
    "features = ['VIN (1-10)','Transaction Type', 'Transaction Year', 'Postal Code']\n",
    "EV_Title = EV_Title[features]\n",
    "EV_Title.head()"
   ]
  },
  {
   "cell_type": "code",
   "execution_count": 101,
   "id": "69730c0e",
   "metadata": {},
   "outputs": [
    {
     "data": {
      "text/html": [
       "<div>\n",
       "<style scoped>\n",
       "    .dataframe tbody tr th:only-of-type {\n",
       "        vertical-align: middle;\n",
       "    }\n",
       "\n",
       "    .dataframe tbody tr th {\n",
       "        vertical-align: top;\n",
       "    }\n",
       "\n",
       "    .dataframe thead th {\n",
       "        text-align: right;\n",
       "    }\n",
       "</style>\n",
       "<table border=\"1\" class=\"dataframe\">\n",
       "  <thead>\n",
       "    <tr style=\"text-align: right;\">\n",
       "      <th></th>\n",
       "      <th>VIN (1-10)</th>\n",
       "      <th>Transaction Type</th>\n",
       "      <th>Transaction Year</th>\n",
       "      <th>Postal Code</th>\n",
       "    </tr>\n",
       "  </thead>\n",
       "  <tbody>\n",
       "    <tr>\n",
       "      <th>2</th>\n",
       "      <td>KNDCM3LD1J</td>\n",
       "      <td>Original Title</td>\n",
       "      <td>2018</td>\n",
       "      <td>98103.0</td>\n",
       "    </tr>\n",
       "    <tr>\n",
       "      <th>6</th>\n",
       "      <td>JTDKARFP1J</td>\n",
       "      <td>Original Title</td>\n",
       "      <td>2018</td>\n",
       "      <td>98311.0</td>\n",
       "    </tr>\n",
       "    <tr>\n",
       "      <th>7</th>\n",
       "      <td>5YJ3E1EA3J</td>\n",
       "      <td>Original Title</td>\n",
       "      <td>2018</td>\n",
       "      <td>98034.0</td>\n",
       "    </tr>\n",
       "    <tr>\n",
       "      <th>13</th>\n",
       "      <td>5YJ3E1EC9N</td>\n",
       "      <td>Original Title</td>\n",
       "      <td>2022</td>\n",
       "      <td>98006.0</td>\n",
       "    </tr>\n",
       "    <tr>\n",
       "      <th>16</th>\n",
       "      <td>1G1FZ6S00K</td>\n",
       "      <td>Original Title</td>\n",
       "      <td>2018</td>\n",
       "      <td>98006.0</td>\n",
       "    </tr>\n",
       "  </tbody>\n",
       "</table>\n",
       "</div>"
      ],
      "text/plain": [
       "    VIN (1-10) Transaction Type  Transaction Year  Postal Code\n",
       "2   KNDCM3LD1J   Original Title              2018      98103.0\n",
       "6   JTDKARFP1J   Original Title              2018      98311.0\n",
       "7   5YJ3E1EA3J   Original Title              2018      98034.0\n",
       "13  5YJ3E1EC9N   Original Title              2022      98006.0\n",
       "16  1G1FZ6S00K   Original Title              2018      98006.0"
      ]
     },
     "execution_count": 101,
     "metadata": {},
     "output_type": "execute_result"
    }
   ],
   "source": [
    "EV_Title = EV_Title[EV_Title['Transaction Type'] == 'Original Title']\n",
    "EV_Title.head()"
   ]
  },
  {
   "cell_type": "code",
   "execution_count": 102,
   "id": "d255a8ef",
   "metadata": {},
   "outputs": [
    {
     "data": {
      "text/html": [
       "<div>\n",
       "<style scoped>\n",
       "    .dataframe tbody tr th:only-of-type {\n",
       "        vertical-align: middle;\n",
       "    }\n",
       "\n",
       "    .dataframe tbody tr th {\n",
       "        vertical-align: top;\n",
       "    }\n",
       "\n",
       "    .dataframe thead th {\n",
       "        text-align: right;\n",
       "    }\n",
       "</style>\n",
       "<table border=\"1\" class=\"dataframe\">\n",
       "  <thead>\n",
       "    <tr style=\"text-align: right;\">\n",
       "      <th></th>\n",
       "      <th>VIN (1-10)</th>\n",
       "      <th>Transaction Type</th>\n",
       "      <th>Transaction Year</th>\n",
       "      <th>Postal Code</th>\n",
       "    </tr>\n",
       "  </thead>\n",
       "  <tbody>\n",
       "    <tr>\n",
       "      <th>336</th>\n",
       "      <td>WP0CD2Y13N</td>\n",
       "      <td>Original Title</td>\n",
       "      <td>2022</td>\n",
       "      <td>98290.0</td>\n",
       "    </tr>\n",
       "    <tr>\n",
       "      <th>1522</th>\n",
       "      <td>5YJRE1A38A</td>\n",
       "      <td>Original Title</td>\n",
       "      <td>2020</td>\n",
       "      <td>98119.0</td>\n",
       "    </tr>\n",
       "    <tr>\n",
       "      <th>1693</th>\n",
       "      <td>KMHC75LD4N</td>\n",
       "      <td>Original Title</td>\n",
       "      <td>2022</td>\n",
       "      <td>98029.0</td>\n",
       "    </tr>\n",
       "    <tr>\n",
       "      <th>2486</th>\n",
       "      <td>WAUUPBFF4J</td>\n",
       "      <td>Original Title</td>\n",
       "      <td>2019</td>\n",
       "      <td>98107.0</td>\n",
       "    </tr>\n",
       "    <tr>\n",
       "      <th>2833</th>\n",
       "      <td>WMEFJ9BA9K</td>\n",
       "      <td>Original Title</td>\n",
       "      <td>2019</td>\n",
       "      <td>98040.0</td>\n",
       "    </tr>\n",
       "  </tbody>\n",
       "</table>\n",
       "</div>"
      ],
      "text/plain": [
       "      VIN (1-10) Transaction Type  Transaction Year  Postal Code\n",
       "336   WP0CD2Y13N   Original Title              2022      98290.0\n",
       "1522  5YJRE1A38A   Original Title              2020      98119.0\n",
       "1693  KMHC75LD4N   Original Title              2022      98029.0\n",
       "2486  WAUUPBFF4J   Original Title              2019      98107.0\n",
       "2833  WMEFJ9BA9K   Original Title              2019      98040.0"
      ]
     },
     "execution_count": 102,
     "metadata": {},
     "output_type": "execute_result"
    }
   ],
   "source": [
    "EV_Title.drop_duplicates(subset = \"VIN (1-10)\",keep = False, inplace= True) ##dropping duplicate vins\n",
    "EV_Title.head()"
   ]
  },
  {
   "cell_type": "code",
   "execution_count": 103,
   "id": "8f996adf",
   "metadata": {},
   "outputs": [
    {
     "data": {
      "text/html": [
       "<div>\n",
       "<style scoped>\n",
       "    .dataframe tbody tr th:only-of-type {\n",
       "        vertical-align: middle;\n",
       "    }\n",
       "\n",
       "    .dataframe tbody tr th {\n",
       "        vertical-align: top;\n",
       "    }\n",
       "\n",
       "    .dataframe thead th {\n",
       "        text-align: right;\n",
       "    }\n",
       "</style>\n",
       "<table border=\"1\" class=\"dataframe\">\n",
       "  <thead>\n",
       "    <tr style=\"text-align: right;\">\n",
       "      <th></th>\n",
       "      <th>Transaction Year</th>\n",
       "    </tr>\n",
       "  </thead>\n",
       "  <tbody>\n",
       "    <tr>\n",
       "      <th>336</th>\n",
       "      <td>2022</td>\n",
       "    </tr>\n",
       "    <tr>\n",
       "      <th>1522</th>\n",
       "      <td>2020</td>\n",
       "    </tr>\n",
       "    <tr>\n",
       "      <th>1693</th>\n",
       "      <td>2022</td>\n",
       "    </tr>\n",
       "    <tr>\n",
       "      <th>2486</th>\n",
       "      <td>2019</td>\n",
       "    </tr>\n",
       "    <tr>\n",
       "      <th>2833</th>\n",
       "      <td>2019</td>\n",
       "    </tr>\n",
       "  </tbody>\n",
       "</table>\n",
       "</div>"
      ],
      "text/plain": [
       "      Transaction Year\n",
       "336               2022\n",
       "1522              2020\n",
       "1693              2022\n",
       "2486              2019\n",
       "2833              2019"
      ]
     },
     "execution_count": 103,
     "metadata": {},
     "output_type": "execute_result"
    }
   ],
   "source": [
    "features = ['Transaction Year']\n",
    "EV_Title_Year = EV_Title[features]\n",
    "EV_Title_Year.head()"
   ]
  },
  {
   "cell_type": "code",
   "execution_count": 104,
   "id": "0ecf820b",
   "metadata": {},
   "outputs": [],
   "source": [
    "#sns.scatterplot(EV_Title_Year)"
   ]
  },
  {
   "cell_type": "code",
   "execution_count": 105,
   "id": "4cbd8168",
   "metadata": {},
   "outputs": [],
   "source": [
    "#np.amin(EV_Title_Year)"
   ]
  },
  {
   "cell_type": "code",
   "execution_count": 106,
   "id": "d9ed1986",
   "metadata": {},
   "outputs": [],
   "source": [
    "def findingyears(year):\n",
    "    x=np.where(EV_Title_Year == year)\n",
    "    return x"
   ]
  },
  {
   "cell_type": "code",
   "execution_count": 107,
   "id": "bbc7f9ff",
   "metadata": {},
   "outputs": [
    {
     "data": {
      "text/plain": [
       "[3.0, 13.0, 14.0, 19.0, 17.0, 31.0, 38.0, 64.0, 103.0, 149.0, 183.0]"
      ]
     },
     "execution_count": 107,
     "metadata": {},
     "output_type": "execute_result"
    }
   ],
   "source": [
    "arr = [2010, 2011, 2012, 2013, 2014, 2015, 2016, 2017, 2018, 2019, 2020] \n",
    "arr1 = []\n",
    "\n",
    "for i in range(len(arr)):\n",
    "    x = findingyears(arr[i])\n",
    "    x = np.array(x)\n",
    "    arr1.append(x.size/2)\n",
    "#EV_Title_Year.insert(loc = 2, column = \"Number of EV\", value = arr1)\n",
    "arr1"
   ]
  },
  {
   "cell_type": "code",
   "execution_count": 108,
   "id": "bef0f9c3",
   "metadata": {},
   "outputs": [
    {
     "data": {
      "text/html": [
       "<div>\n",
       "<style scoped>\n",
       "    .dataframe tbody tr th:only-of-type {\n",
       "        vertical-align: middle;\n",
       "    }\n",
       "\n",
       "    .dataframe tbody tr th {\n",
       "        vertical-align: top;\n",
       "    }\n",
       "\n",
       "    .dataframe thead th {\n",
       "        text-align: right;\n",
       "    }\n",
       "</style>\n",
       "<table border=\"1\" class=\"dataframe\">\n",
       "  <thead>\n",
       "    <tr style=\"text-align: right;\">\n",
       "      <th></th>\n",
       "      <th>Year</th>\n",
       "      <th>Total_Sold</th>\n",
       "    </tr>\n",
       "  </thead>\n",
       "  <tbody>\n",
       "    <tr>\n",
       "      <th>0</th>\n",
       "      <td>2010</td>\n",
       "      <td>3.0</td>\n",
       "    </tr>\n",
       "    <tr>\n",
       "      <th>1</th>\n",
       "      <td>2011</td>\n",
       "      <td>13.0</td>\n",
       "    </tr>\n",
       "    <tr>\n",
       "      <th>2</th>\n",
       "      <td>2012</td>\n",
       "      <td>14.0</td>\n",
       "    </tr>\n",
       "    <tr>\n",
       "      <th>3</th>\n",
       "      <td>2013</td>\n",
       "      <td>19.0</td>\n",
       "    </tr>\n",
       "    <tr>\n",
       "      <th>4</th>\n",
       "      <td>2014</td>\n",
       "      <td>17.0</td>\n",
       "    </tr>\n",
       "  </tbody>\n",
       "</table>\n",
       "</div>"
      ],
      "text/plain": [
       "   Year  Total_Sold\n",
       "0  2010         3.0\n",
       "1  2011        13.0\n",
       "2  2012        14.0\n",
       "3  2013        19.0\n",
       "4  2014        17.0"
      ]
     },
     "execution_count": 108,
     "metadata": {},
     "output_type": "execute_result"
    }
   ],
   "source": [
    "zipped = list(zip(arr, arr1))\n",
    "df = pd.DataFrame(zipped, columns=['Year', 'Total_Sold'])\n",
    "df.head()"
   ]
  },
  {
   "cell_type": "code",
   "execution_count": 109,
   "id": "496620c6",
   "metadata": {},
   "outputs": [
    {
     "data": {
      "image/png": "[encoded data removed]",
      "text/plain": [
       "<Figure size 1000x700 with 1 Axes>"
      ]
     },
     "metadata": {},
     "output_type": "display_data"
    }
   ],
   "source": [
    "fig=plt.figure(figsize = (10, 7))\n",
    "sns.barplot(x=\"Year\", y=\"Total_Sold\", data=df)\n",
    "plt.title('Year vs Total EV Sold')\n",
    "plt.xlabel('Total Sold')\n",
    "plt.ylabel('Year')\n",
    "plt.show()"
   ]
  },
  {
   "cell_type": "code",
   "execution_count": 110,
   "id": "27704d53",
   "metadata": {},
   "outputs": [
    {
     "data": {
      "image/png": "[encoded data removed]",
      "text/plain": [
       "<Figure size 1000x700 with 1 Axes>"
      ]
     },
     "metadata": {},
     "output_type": "display_data"
    }
   ],
   "source": [
    "fig=plt.figure(figsize = (10, 7))\n",
    "sns.scatterplot(x=\"Year\", y=\"Total_Sold\", data=df)\n",
    "plt.title('Year vs Total EV Sold')\n",
    "plt.xlabel('Total Sold')\n",
    "plt.ylabel('Year')\n",
    "plt.show()"
   ]
  },
  {
   "cell_type": "code",
   "execution_count": 111,
   "id": "f25ca3a9",
   "metadata": {},
   "outputs": [
    {
     "name": "stdout",
     "output_type": "stream",
     "text": [
      "[[ 1.5430335]\n",
      " [ 0.3086067]\n",
      " [-1.2344268]\n",
      " [ 0.6172134]\n",
      " [ 0.9258201]\n",
      " [-0.6172134]\n",
      " [-1.5430335]\n",
      " [ 0.       ]]\n"
     ]
    }
   ],
   "source": [
    "X=np.array(df[\"Year\"].values)\n",
    "y=np.array(df[\"Total_Sold\"].values)\n",
    "\n",
    "X=X.reshape(-1,1)\n",
    "y=y.reshape(-1,1)\n",
    "\n",
    "X_train, X_test, y_train, y_test = train_test_split(X, y, test_size = 0.25, random_state = 0)\n",
    "\n",
    "from sklearn.preprocessing import StandardScaler\n",
    "sc_x = StandardScaler()\n",
    "xtrain = sc_x.fit_transform(X_train) \n",
    "xtest = sc_x.transform(X_test)\n",
    "  \n",
    "print (xtrain[0:10, :])"
   ]
  },
  {
   "cell_type": "code",
   "execution_count": 112,
   "id": "7173e05c",
   "metadata": {},
   "outputs": [
    {
     "data": {
      "text/plain": [
       "LinearRegression()"
      ]
     },
     "execution_count": 112,
     "metadata": {},
     "output_type": "execute_result"
    }
   ],
   "source": [
    "#from sklearn.linear_model import LogisticRegression\n",
    "#classifier = LogisticRegression(random_state = 0)\n",
    "#classifier.fit(X_train, y_train)\n",
    "from sklearn import datasets, linear_model, metrics\n",
    "classifier = linear_model.LinearRegression()\n",
    "classifier.fit(X_train, y_train)"
   ]
  },
  {
   "cell_type": "code",
   "execution_count": 113,
   "id": "e67cf115",
   "metadata": {},
   "outputs": [
    {
     "data": {
      "text/plain": [
       "array([[133.23809524],\n",
       "       [ 72.04761905],\n",
       "       [ -4.44047619],\n",
       "       [ 87.3452381 ],\n",
       "       [102.64285714],\n",
       "       [ 26.1547619 ],\n",
       "       [-19.73809524],\n",
       "       [ 56.75      ]])"
      ]
     },
     "execution_count": 113,
     "metadata": {},
     "output_type": "execute_result"
    }
   ],
   "source": [
    "classifier.predict(X_train)"
   ]
  },
  {
   "cell_type": "code",
   "execution_count": 114,
   "id": "f9f86280",
   "metadata": {},
   "outputs": [
    {
     "data": {
      "text/plain": [
       "Text(0, 0.5, 'Year')"
      ]
     },
     "execution_count": 114,
     "metadata": {},
     "output_type": "execute_result"
    },
    {
     "data": {
      "image/png": "[encoded data removed]",
      "text/plain": [
       "<Figure size 1000x700 with 1 Axes>"
      ]
     },
     "metadata": {},
     "output_type": "display_data"
    }
   ],
   "source": [
    "x=X_train\n",
    "y=y_train\n",
    "n = np.size(x)\n",
    "\n",
    "x_mean = np.mean(x)\n",
    "y_mean = np.mean(y)\n",
    "x_mean,y_mean\n",
    "  \n",
    "Sxy = np.sum(x*y)- n*x_mean*y_mean\n",
    "Sxx = np.sum(x*x)-n*x_mean*x_mean\n",
    "  \n",
    "b1 = Sxy/Sxx\n",
    "b0 = y_mean-b1*x_mean\n",
    "\n",
    "y_pred = classifier.predict(X_train)\n",
    "    \n",
    "fig=plt.figure(figsize = (10, 7))\n",
    "plt.title('Year vs Total EV Sold')\n",
    "sns.scatterplot(x=\"Year\", y=\"Total_Sold\", data=df)\n",
    "plt.plot(x, y_pred, color = 'green')\n",
    "plt.xlabel('Total Addded')\n",
    "plt.ylabel('Year')"
   ]
  },
  {
   "cell_type": "code",
   "execution_count": 115,
   "id": "b11286f2",
   "metadata": {},
   "outputs": [
    {
     "name": "stdout",
     "output_type": "stream",
     "text": [
      "Variance score: 0.867702296438231\n"
     ]
    }
   ],
   "source": [
    "print('Variance score: {}'.format(classifier.score(X_test, y_test)))"
   ]
  },
  {
   "cell_type": "code",
   "execution_count": 116,
   "id": "8966e51a",
   "metadata": {},
   "outputs": [
    {
     "name": "stdout",
     "output_type": "stream",
     "text": [
      "Slope: [[15.29761905]]\n",
      "Intercept: [-30767.95238095]\n",
      "MSE: 714.5074404761754\n",
      "Root mean squared error:  26.730271986573115\n",
      "R2 score:  0.7747232536382682\n"
     ]
    }
   ],
   "source": [
    "x=X_train\n",
    "y=y_train\n",
    "n = np.size(x)\n",
    "\n",
    "# Fit the data(train the model)\n",
    "classifier.fit(x, y)\n",
    "  \n",
    "# Predict\n",
    "y_predicted = classifier.predict(x)\n",
    "  \n",
    "# model evaluation\n",
    "mse=mean_squared_error(y,y_predicted)\n",
    "  \n",
    "rmse = np.sqrt(mean_squared_error(y, y_predicted))\n",
    "r2 = r2_score(y, y_predicted)\n",
    "  \n",
    "# printing values\n",
    "print('Slope:' ,classifier.coef_)\n",
    "print('Intercept:', classifier.intercept_)\n",
    "print('MSE:',mse)\n",
    "print('Root mean squared error: ', rmse)\n",
    "print('R2 score: ', r2)"
   ]
  },
  {
   "cell_type": "code",
   "execution_count": 118,
   "id": "a7a9d680",
   "metadata": {},
   "outputs": [
    {
     "data": {
      "text/plain": [
       "Text(0, 0.5, 'Year')"
      ]
     },
     "execution_count": 118,
     "metadata": {},
     "output_type": "execute_result"
    },
    {
     "data": {
      "image/png": "[encoded data removed]",
      "text/plain": [
       "<Figure size 1000x700 with 1 Axes>"
      ]
     },
     "metadata": {},
     "output_type": "display_data"
    }
   ],
   "source": [
    "# You haven't provided the values of X_train and y_train, so I'm going to\n",
    "# use the years list as the x values and an array of zeros as the y values\n",
    "# for this example.\n",
    "\n",
    "x = [2023,2024,2025,2026,2027,2028,2029,2030,2031,2032,2033]\n",
    "y = np.zeros(len(x))\n",
    "\n",
    "# You also haven't provided the classifier object, so I'm going to use a\n",
    "# dummy object for this example.\n",
    "\n",
    "# Now we can use the x and y values to plot the data\n",
    "\n",
    "# Reshape the x array to be a 2D array of size (n, 1) where n is the\n",
    "# number of elements in the array\n",
    "x = np.array(x).reshape(-1, 1)\n",
    "\n",
    "# Use the classifier object to predict the y values for the x values\n",
    "y_pred = classifier.predict(x)\n",
    "\n",
    "# Create a figure object with a specified size\n",
    "fig = plt.figure(figsize=(10, 7))\n",
    "\n",
    "# Add a title to the plot\n",
    "plt.title('Year vs Total EV Sold')\n",
    "\n",
    "# Plot the x and y values as a scatterplot\n",
    "sns.scatterplot(x=\"Year\", y=\"Total_Sold\", data=df)\n",
    "\n",
    "# Plot the predicted y values against the x values as a scatter plot\n",
    "plt.scatter(x, y_pred, color='green')\n",
    "\n",
    "# Label the x and y axes\n",
    "plt.xlabel('Total Added')\n",
    "plt.ylabel('Year')\n"
   ]
  },
  {
   "cell_type": "code",
   "execution_count": null,
   "id": "260e7b0d",
   "metadata": {},
   "outputs": [],
   "source": []
  }
 ],
 "metadata": {
  "kernelspec": {
   "display_name": "Python 3 (ipykernel)",
   "language": "python",
   "name": "python3"
  },
  "language_info": {
   "codemirror_mode": {
    "name": "ipython",
    "version": 3
   },
   "file_extension": ".py",
   "mimetype": "text/x-python",
   "name": "python",
   "nbconvert_exporter": "python",
   "pygments_lexer": "ipython3",
   "version": "3.9.15"
  }
 },
 "nbformat": 4,
 "nbformat_minor": 5
}
