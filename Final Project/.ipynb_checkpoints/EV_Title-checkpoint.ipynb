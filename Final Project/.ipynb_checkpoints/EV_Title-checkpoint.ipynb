{
 "cells": [
  {
   "cell_type": "code",
   "execution_count": 72,
   "id": "af33775d",
   "metadata": {},
   "outputs": [],
   "source": [
    "import numpy as np\n",
    "import pandas as pd\n",
    "import torch\n",
    "from sklearn.model_selection import train_test_split\n",
    "import tensorflow as tf\n",
    "from matplotlib import pyplot as plt\n",
    "import torch.nn as nn\n",
    "import seaborn as sns\n",
    "from sklearn.preprocessing import StandardScaler\n",
    "from collections import OrderedDict\n",
    "import torch.optim as optim\n",
    "\n",
    "from sklearn.linear_model import LinearRegression\n",
    "from sklearn import preprocessing, svm\n",
    "\n",
    "import warnings\n",
    "warnings.filterwarnings(\"ignore\")\n",
    "\n",
    "from sklearn.decomposition import PCA\n",
    "\n",
    "from sklearn import datasets, linear_model, metrics\n",
    "from sklearn.linear_model import LinearRegression\n",
    "from sklearn.metrics import mean_squared_error, mean_absolute_error\n",
    "from sklearn import preprocessing\n",
    "from sklearn.metrics import r2_score\n"
   ]
  },
  {
   "cell_type": "code",
   "execution_count": 73,
   "id": "1ac71105",
   "metadata": {},
   "outputs": [
    {
     "data": {
      "text/html": [
       "<div>\n",
       "<style scoped>\n",
       "    .dataframe tbody tr th:only-of-type {\n",
       "        vertical-align: middle;\n",
       "    }\n",
       "\n",
       "    .dataframe tbody tr th {\n",
       "        vertical-align: top;\n",
       "    }\n",
       "\n",
       "    .dataframe thead th {\n",
       "        text-align: right;\n",
       "    }\n",
       "</style>\n",
       "<table border=\"1\" class=\"dataframe\">\n",
       "  <thead>\n",
       "    <tr style=\"text-align: right;\">\n",
       "      <th></th>\n",
       "      <th>Clean Alternative Fuel Vehicle Type</th>\n",
       "      <th>VIN (1-10)</th>\n",
       "      <th>Model Year</th>\n",
       "      <th>Make</th>\n",
       "      <th>Model</th>\n",
       "      <th>New or Used Vehicle</th>\n",
       "      <th>Sale Price</th>\n",
       "      <th>DOL Transaction Date</th>\n",
       "      <th>Transaction Type</th>\n",
       "      <th>Transaction Year</th>\n",
       "      <th>...</th>\n",
       "      <th>2019 HB 2042 Clean Alternative Fuel Vehicle (CAFV) Eligibility</th>\n",
       "      <th>Meets 2019 HB 2042 Electric Range Requirement</th>\n",
       "      <th>Meets 2019 HB 2042 Sale Date Requirement</th>\n",
       "      <th>Meets 2019 HB 2042 Sale Price/Value Requirement</th>\n",
       "      <th>Odometer Reading</th>\n",
       "      <th>Odometer Code</th>\n",
       "      <th>Transportation Electrification Fee Paid</th>\n",
       "      <th>Hybrid Vehicle Electrification Fee Paid</th>\n",
       "      <th>2020 Census Tract</th>\n",
       "      <th>Electric Utility</th>\n",
       "    </tr>\n",
       "  </thead>\n",
       "  <tbody>\n",
       "    <tr>\n",
       "      <th>0</th>\n",
       "      <td>Battery Electric Vehicle (BEV)</td>\n",
       "      <td>7FCTGAAA8N</td>\n",
       "      <td>2022</td>\n",
       "      <td>RIVIAN</td>\n",
       "      <td>R1T</td>\n",
       "      <td>New</td>\n",
       "      <td>0</td>\n",
       "      <td>August 16 2022</td>\n",
       "      <td>Original Registration</td>\n",
       "      <td>2022</td>\n",
       "      <td>...</td>\n",
       "      <td>ERROR: No battery range; TRANSACTION NOT ELIGI...</td>\n",
       "      <td>False</td>\n",
       "      <td>False</td>\n",
       "      <td>False</td>\n",
       "      <td>0</td>\n",
       "      <td>Odometer reading is not collected at time of r...</td>\n",
       "      <td>No</td>\n",
       "      <td>No</td>\n",
       "      <td>5.303300e+10</td>\n",
       "      <td>CITY OF SEATTLE - (WA)|CITY OF TACOMA - (WA)</td>\n",
       "    </tr>\n",
       "    <tr>\n",
       "      <th>1</th>\n",
       "      <td>Battery Electric Vehicle (BEV)</td>\n",
       "      <td>5YJ3E1EBXN</td>\n",
       "      <td>2022</td>\n",
       "      <td>TESLA</td>\n",
       "      <td>Model 3</td>\n",
       "      <td>New</td>\n",
       "      <td>70440</td>\n",
       "      <td>October 11 2022</td>\n",
       "      <td>Original Title</td>\n",
       "      <td>2022</td>\n",
       "      <td>...</td>\n",
       "      <td>ERROR: No battery range; TRANSACTION NOT ELIGI...</td>\n",
       "      <td>False</td>\n",
       "      <td>True</td>\n",
       "      <td>False</td>\n",
       "      <td>15</td>\n",
       "      <td>Actual Mileage</td>\n",
       "      <td>Not Applicable</td>\n",
       "      <td>Not Applicable</td>\n",
       "      <td>5.303300e+10</td>\n",
       "      <td>CITY OF SEATTLE - (WA)|CITY OF TACOMA - (WA)</td>\n",
       "    </tr>\n",
       "    <tr>\n",
       "      <th>2</th>\n",
       "      <td>Battery Electric Vehicle (BEV)</td>\n",
       "      <td>5YJ3E1EBXN</td>\n",
       "      <td>2022</td>\n",
       "      <td>TESLA</td>\n",
       "      <td>Model 3</td>\n",
       "      <td>New</td>\n",
       "      <td>0</td>\n",
       "      <td>October 11 2022</td>\n",
       "      <td>Original Registration</td>\n",
       "      <td>2022</td>\n",
       "      <td>...</td>\n",
       "      <td>ERROR: No battery range; TRANSACTION NOT ELIGI...</td>\n",
       "      <td>False</td>\n",
       "      <td>False</td>\n",
       "      <td>False</td>\n",
       "      <td>0</td>\n",
       "      <td>Odometer reading is not collected at time of r...</td>\n",
       "      <td>No</td>\n",
       "      <td>No</td>\n",
       "      <td>5.303300e+10</td>\n",
       "      <td>CITY OF SEATTLE - (WA)|CITY OF TACOMA - (WA)</td>\n",
       "    </tr>\n",
       "    <tr>\n",
       "      <th>3</th>\n",
       "      <td>Battery Electric Vehicle (BEV)</td>\n",
       "      <td>1G1FX6S07H</td>\n",
       "      <td>2017</td>\n",
       "      <td>CHEVROLET</td>\n",
       "      <td>Bolt EV</td>\n",
       "      <td>Used</td>\n",
       "      <td>21219</td>\n",
       "      <td>October 15 2019</td>\n",
       "      <td>Original Title</td>\n",
       "      <td>2019</td>\n",
       "      <td>...</td>\n",
       "      <td>Clean Alternative Fuel Vehicle</td>\n",
       "      <td>True</td>\n",
       "      <td>True</td>\n",
       "      <td>True</td>\n",
       "      <td>43515</td>\n",
       "      <td>Actual Mileage</td>\n",
       "      <td>Not Applicable</td>\n",
       "      <td>Not Applicable</td>\n",
       "      <td>5.304197e+10</td>\n",
       "      <td>PUGET SOUND ENERGY INC||CITY OF TACOMA - (WA)</td>\n",
       "    </tr>\n",
       "    <tr>\n",
       "      <th>4</th>\n",
       "      <td>Battery Electric Vehicle (BEV)</td>\n",
       "      <td>1G1FX6S07H</td>\n",
       "      <td>2017</td>\n",
       "      <td>CHEVROLET</td>\n",
       "      <td>Bolt EV</td>\n",
       "      <td>Used</td>\n",
       "      <td>0</td>\n",
       "      <td>October 15 2019</td>\n",
       "      <td>Original Registration</td>\n",
       "      <td>2019</td>\n",
       "      <td>...</td>\n",
       "      <td>TRANSACTION NOT ELIGIBLE: Non-sale, registrati...</td>\n",
       "      <td>True</td>\n",
       "      <td>False</td>\n",
       "      <td>False</td>\n",
       "      <td>0</td>\n",
       "      <td>Odometer reading is not collected at time of r...</td>\n",
       "      <td>No</td>\n",
       "      <td>No</td>\n",
       "      <td>5.304197e+10</td>\n",
       "      <td>PUGET SOUND ENERGY INC||CITY OF TACOMA - (WA)</td>\n",
       "    </tr>\n",
       "  </tbody>\n",
       "</table>\n",
       "<p>5 rows × 32 columns</p>\n",
       "</div>"
      ],
      "text/plain": [
       "  Clean Alternative Fuel Vehicle Type  VIN (1-10)  Model Year       Make  \\\n",
       "0      Battery Electric Vehicle (BEV)  7FCTGAAA8N        2022     RIVIAN   \n",
       "1      Battery Electric Vehicle (BEV)  5YJ3E1EBXN        2022      TESLA   \n",
       "2      Battery Electric Vehicle (BEV)  5YJ3E1EBXN        2022      TESLA   \n",
       "3      Battery Electric Vehicle (BEV)  1G1FX6S07H        2017  CHEVROLET   \n",
       "4      Battery Electric Vehicle (BEV)  1G1FX6S07H        2017  CHEVROLET   \n",
       "\n",
       "     Model New or Used Vehicle  Sale Price DOL Transaction Date  \\\n",
       "0      R1T                 New           0       August 16 2022   \n",
       "1  Model 3                 New       70440      October 11 2022   \n",
       "2  Model 3                 New           0      October 11 2022   \n",
       "3  Bolt EV                Used       21219      October 15 2019   \n",
       "4  Bolt EV                Used           0      October 15 2019   \n",
       "\n",
       "        Transaction Type  Transaction Year  ...  \\\n",
       "0  Original Registration              2022  ...   \n",
       "1         Original Title              2022  ...   \n",
       "2  Original Registration              2022  ...   \n",
       "3         Original Title              2019  ...   \n",
       "4  Original Registration              2019  ...   \n",
       "\n",
       "  2019 HB 2042 Clean Alternative Fuel Vehicle (CAFV) Eligibility  \\\n",
       "0  ERROR: No battery range; TRANSACTION NOT ELIGI...               \n",
       "1  ERROR: No battery range; TRANSACTION NOT ELIGI...               \n",
       "2  ERROR: No battery range; TRANSACTION NOT ELIGI...               \n",
       "3                     Clean Alternative Fuel Vehicle               \n",
       "4  TRANSACTION NOT ELIGIBLE: Non-sale, registrati...               \n",
       "\n",
       "  Meets 2019 HB 2042 Electric Range Requirement  \\\n",
       "0                                         False   \n",
       "1                                         False   \n",
       "2                                         False   \n",
       "3                                          True   \n",
       "4                                          True   \n",
       "\n",
       "  Meets 2019 HB 2042 Sale Date Requirement  \\\n",
       "0                                    False   \n",
       "1                                     True   \n",
       "2                                    False   \n",
       "3                                     True   \n",
       "4                                    False   \n",
       "\n",
       "   Meets 2019 HB 2042 Sale Price/Value Requirement  Odometer Reading  \\\n",
       "0                                            False                 0   \n",
       "1                                            False                15   \n",
       "2                                            False                 0   \n",
       "3                                             True             43515   \n",
       "4                                            False                 0   \n",
       "\n",
       "                                       Odometer Code  \\\n",
       "0  Odometer reading is not collected at time of r...   \n",
       "1                                     Actual Mileage   \n",
       "2  Odometer reading is not collected at time of r...   \n",
       "3                                     Actual Mileage   \n",
       "4  Odometer reading is not collected at time of r...   \n",
       "\n",
       "  Transportation Electrification Fee Paid  \\\n",
       "0                                      No   \n",
       "1                          Not Applicable   \n",
       "2                                      No   \n",
       "3                          Not Applicable   \n",
       "4                                      No   \n",
       "\n",
       "  Hybrid Vehicle Electrification Fee Paid 2020 Census Tract  \\\n",
       "0                                      No      5.303300e+10   \n",
       "1                          Not Applicable      5.303300e+10   \n",
       "2                                      No      5.303300e+10   \n",
       "3                          Not Applicable      5.304197e+10   \n",
       "4                                      No      5.304197e+10   \n",
       "\n",
       "                                Electric Utility  \n",
       "0   CITY OF SEATTLE - (WA)|CITY OF TACOMA - (WA)  \n",
       "1   CITY OF SEATTLE - (WA)|CITY OF TACOMA - (WA)  \n",
       "2   CITY OF SEATTLE - (WA)|CITY OF TACOMA - (WA)  \n",
       "3  PUGET SOUND ENERGY INC||CITY OF TACOMA - (WA)  \n",
       "4  PUGET SOUND ENERGY INC||CITY OF TACOMA - (WA)  \n",
       "\n",
       "[5 rows x 32 columns]"
      ]
     },
     "execution_count": 73,
     "metadata": {},
     "output_type": "execute_result"
    }
   ],
   "source": [
    "device = torch.device(\"cuda:0\")\n",
    "EV_Title = pd.DataFrame(pd.read_csv('Electric_Vehicle_Title_and_Registration_Activity.csv'))\n",
    "EV_Title.head()"
   ]
  },
  {
   "cell_type": "code",
   "execution_count": 74,
   "id": "9a805d05",
   "metadata": {},
   "outputs": [
    {
     "data": {
      "text/html": [
       "<div>\n",
       "<style scoped>\n",
       "    .dataframe tbody tr th:only-of-type {\n",
       "        vertical-align: middle;\n",
       "    }\n",
       "\n",
       "    .dataframe tbody tr th {\n",
       "        vertical-align: top;\n",
       "    }\n",
       "\n",
       "    .dataframe thead th {\n",
       "        text-align: right;\n",
       "    }\n",
       "</style>\n",
       "<table border=\"1\" class=\"dataframe\">\n",
       "  <thead>\n",
       "    <tr style=\"text-align: right;\">\n",
       "      <th></th>\n",
       "      <th>VIN (1-10)</th>\n",
       "      <th>Transaction Type</th>\n",
       "      <th>Transaction Year</th>\n",
       "      <th>Postal Code</th>\n",
       "    </tr>\n",
       "  </thead>\n",
       "  <tbody>\n",
       "    <tr>\n",
       "      <th>0</th>\n",
       "      <td>7FCTGAAA8N</td>\n",
       "      <td>Original Registration</td>\n",
       "      <td>2022</td>\n",
       "      <td>98107.0</td>\n",
       "    </tr>\n",
       "    <tr>\n",
       "      <th>1</th>\n",
       "      <td>5YJ3E1EBXN</td>\n",
       "      <td>Original Title</td>\n",
       "      <td>2022</td>\n",
       "      <td>98107.0</td>\n",
       "    </tr>\n",
       "    <tr>\n",
       "      <th>2</th>\n",
       "      <td>5YJ3E1EBXN</td>\n",
       "      <td>Original Registration</td>\n",
       "      <td>2022</td>\n",
       "      <td>98107.0</td>\n",
       "    </tr>\n",
       "    <tr>\n",
       "      <th>3</th>\n",
       "      <td>1G1FX6S07H</td>\n",
       "      <td>Original Title</td>\n",
       "      <td>2019</td>\n",
       "      <td>98532.0</td>\n",
       "    </tr>\n",
       "    <tr>\n",
       "      <th>4</th>\n",
       "      <td>1G1FX6S07H</td>\n",
       "      <td>Original Registration</td>\n",
       "      <td>2019</td>\n",
       "      <td>98532.0</td>\n",
       "    </tr>\n",
       "  </tbody>\n",
       "</table>\n",
       "</div>"
      ],
      "text/plain": [
       "   VIN (1-10)       Transaction Type  Transaction Year  Postal Code\n",
       "0  7FCTGAAA8N  Original Registration              2022      98107.0\n",
       "1  5YJ3E1EBXN         Original Title              2022      98107.0\n",
       "2  5YJ3E1EBXN  Original Registration              2022      98107.0\n",
       "3  1G1FX6S07H         Original Title              2019      98532.0\n",
       "4  1G1FX6S07H  Original Registration              2019      98532.0"
      ]
     },
     "execution_count": 74,
     "metadata": {},
     "output_type": "execute_result"
    }
   ],
   "source": [
    "features = ['VIN (1-10)','Transaction Type', 'Transaction Year', 'Postal Code']\n",
    "EV_Title = EV_Title[features]\n",
    "EV_Title.head()"
   ]
  },
  {
   "cell_type": "code",
   "execution_count": 75,
   "id": "69730c0e",
   "metadata": {},
   "outputs": [
    {
     "data": {
      "text/html": [
       "<div>\n",
       "<style scoped>\n",
       "    .dataframe tbody tr th:only-of-type {\n",
       "        vertical-align: middle;\n",
       "    }\n",
       "\n",
       "    .dataframe tbody tr th {\n",
       "        vertical-align: top;\n",
       "    }\n",
       "\n",
       "    .dataframe thead th {\n",
       "        text-align: right;\n",
       "    }\n",
       "</style>\n",
       "<table border=\"1\" class=\"dataframe\">\n",
       "  <thead>\n",
       "    <tr style=\"text-align: right;\">\n",
       "      <th></th>\n",
       "      <th>VIN (1-10)</th>\n",
       "      <th>Transaction Type</th>\n",
       "      <th>Transaction Year</th>\n",
       "      <th>Postal Code</th>\n",
       "    </tr>\n",
       "  </thead>\n",
       "  <tbody>\n",
       "    <tr>\n",
       "      <th>1</th>\n",
       "      <td>5YJ3E1EBXN</td>\n",
       "      <td>Original Title</td>\n",
       "      <td>2022</td>\n",
       "      <td>98107.0</td>\n",
       "    </tr>\n",
       "    <tr>\n",
       "      <th>3</th>\n",
       "      <td>1G1FX6S07H</td>\n",
       "      <td>Original Title</td>\n",
       "      <td>2019</td>\n",
       "      <td>98532.0</td>\n",
       "    </tr>\n",
       "    <tr>\n",
       "      <th>7</th>\n",
       "      <td>7SAYGDEF9N</td>\n",
       "      <td>Original Title</td>\n",
       "      <td>2022</td>\n",
       "      <td>98033.0</td>\n",
       "    </tr>\n",
       "    <tr>\n",
       "      <th>10</th>\n",
       "      <td>JTDKN3DP5D</td>\n",
       "      <td>Original Title</td>\n",
       "      <td>2016</td>\n",
       "      <td>98329.0</td>\n",
       "    </tr>\n",
       "    <tr>\n",
       "      <th>11</th>\n",
       "      <td>7SAYGDEF9N</td>\n",
       "      <td>Original Title</td>\n",
       "      <td>2022</td>\n",
       "      <td>98034.0</td>\n",
       "    </tr>\n",
       "  </tbody>\n",
       "</table>\n",
       "</div>"
      ],
      "text/plain": [
       "    VIN (1-10) Transaction Type  Transaction Year  Postal Code\n",
       "1   5YJ3E1EBXN   Original Title              2022      98107.0\n",
       "3   1G1FX6S07H   Original Title              2019      98532.0\n",
       "7   7SAYGDEF9N   Original Title              2022      98033.0\n",
       "10  JTDKN3DP5D   Original Title              2016      98329.0\n",
       "11  7SAYGDEF9N   Original Title              2022      98034.0"
      ]
     },
     "execution_count": 75,
     "metadata": {},
     "output_type": "execute_result"
    }
   ],
   "source": [
    "EV_Title = EV_Title[EV_Title['Transaction Type'] == 'Original Title']\n",
    "EV_Title.head()"
   ]
  },
  {
   "cell_type": "code",
   "execution_count": 76,
   "id": "d255a8ef",
   "metadata": {},
   "outputs": [
    {
     "data": {
      "text/html": [
       "<div>\n",
       "<style scoped>\n",
       "    .dataframe tbody tr th:only-of-type {\n",
       "        vertical-align: middle;\n",
       "    }\n",
       "\n",
       "    .dataframe tbody tr th {\n",
       "        vertical-align: top;\n",
       "    }\n",
       "\n",
       "    .dataframe thead th {\n",
       "        text-align: right;\n",
       "    }\n",
       "</style>\n",
       "<table border=\"1\" class=\"dataframe\">\n",
       "  <thead>\n",
       "    <tr style=\"text-align: right;\">\n",
       "      <th></th>\n",
       "      <th>VIN (1-10)</th>\n",
       "      <th>Transaction Type</th>\n",
       "      <th>Transaction Year</th>\n",
       "      <th>Postal Code</th>\n",
       "    </tr>\n",
       "  </thead>\n",
       "  <tbody>\n",
       "    <tr>\n",
       "      <th>777</th>\n",
       "      <td>WBA7W4C07L</td>\n",
       "      <td>Original Title</td>\n",
       "      <td>2022</td>\n",
       "      <td>98166.0</td>\n",
       "    </tr>\n",
       "    <tr>\n",
       "      <th>950</th>\n",
       "      <td>WVGKMPE24N</td>\n",
       "      <td>Original Title</td>\n",
       "      <td>2022</td>\n",
       "      <td>98502.0</td>\n",
       "    </tr>\n",
       "    <tr>\n",
       "      <th>2079</th>\n",
       "      <td>50EA1DAA5N</td>\n",
       "      <td>Original Title</td>\n",
       "      <td>2022</td>\n",
       "      <td>99036.0</td>\n",
       "    </tr>\n",
       "    <tr>\n",
       "      <th>2264</th>\n",
       "      <td>WA1VCBGE5N</td>\n",
       "      <td>Original Title</td>\n",
       "      <td>2022</td>\n",
       "      <td>98033.0</td>\n",
       "    </tr>\n",
       "    <tr>\n",
       "      <th>2308</th>\n",
       "      <td>5YJRE1A33B</td>\n",
       "      <td>Original Title</td>\n",
       "      <td>2011</td>\n",
       "      <td>98005.0</td>\n",
       "    </tr>\n",
       "  </tbody>\n",
       "</table>\n",
       "</div>"
      ],
      "text/plain": [
       "      VIN (1-10) Transaction Type  Transaction Year  Postal Code\n",
       "777   WBA7W4C07L   Original Title              2022      98166.0\n",
       "950   WVGKMPE24N   Original Title              2022      98502.0\n",
       "2079  50EA1DAA5N   Original Title              2022      99036.0\n",
       "2264  WA1VCBGE5N   Original Title              2022      98033.0\n",
       "2308  5YJRE1A33B   Original Title              2011      98005.0"
      ]
     },
     "execution_count": 76,
     "metadata": {},
     "output_type": "execute_result"
    }
   ],
   "source": [
    "EV_Title.drop_duplicates(subset = \"VIN (1-10)\",keep = False, inplace= True) ##dropping duplicate vins\n",
    "EV_Title.head()"
   ]
  },
  {
   "cell_type": "code",
   "execution_count": 115,
   "id": "8f996adf",
   "metadata": {},
   "outputs": [
    {
     "data": {
      "text/html": [
       "<div>\n",
       "<style scoped>\n",
       "    .dataframe tbody tr th:only-of-type {\n",
       "        vertical-align: middle;\n",
       "    }\n",
       "\n",
       "    .dataframe tbody tr th {\n",
       "        vertical-align: top;\n",
       "    }\n",
       "\n",
       "    .dataframe thead th {\n",
       "        text-align: right;\n",
       "    }\n",
       "</style>\n",
       "<table border=\"1\" class=\"dataframe\">\n",
       "  <thead>\n",
       "    <tr style=\"text-align: right;\">\n",
       "      <th></th>\n",
       "      <th>Transaction Year</th>\n",
       "    </tr>\n",
       "  </thead>\n",
       "  <tbody>\n",
       "    <tr>\n",
       "      <th>777</th>\n",
       "      <td>2022</td>\n",
       "    </tr>\n",
       "    <tr>\n",
       "      <th>950</th>\n",
       "      <td>2022</td>\n",
       "    </tr>\n",
       "    <tr>\n",
       "      <th>2079</th>\n",
       "      <td>2022</td>\n",
       "    </tr>\n",
       "    <tr>\n",
       "      <th>2264</th>\n",
       "      <td>2022</td>\n",
       "    </tr>\n",
       "    <tr>\n",
       "      <th>2308</th>\n",
       "      <td>2011</td>\n",
       "    </tr>\n",
       "  </tbody>\n",
       "</table>\n",
       "</div>"
      ],
      "text/plain": [
       "      Transaction Year\n",
       "777               2022\n",
       "950               2022\n",
       "2079              2022\n",
       "2264              2022\n",
       "2308              2011"
      ]
     },
     "execution_count": 115,
     "metadata": {},
     "output_type": "execute_result"
    }
   ],
   "source": [
    "features = ['Transaction Year']\n",
    "EV_Title_Year = EV_Title[features]\n",
    "EV_Title_Year.head()"
   ]
  },
  {
   "cell_type": "code",
   "execution_count": 116,
   "id": "0ecf820b",
   "metadata": {},
   "outputs": [],
   "source": [
    "#sns.scatterplot(EV_Title_Year)"
   ]
  },
  {
   "cell_type": "code",
   "execution_count": 117,
   "id": "4cbd8168",
   "metadata": {},
   "outputs": [],
   "source": [
    "#np.amin(EV_Title_Year)"
   ]
  },
  {
   "cell_type": "code",
   "execution_count": 118,
   "id": "d9ed1986",
   "metadata": {},
   "outputs": [],
   "source": [
    "def findingyears(year):\n",
    "    x=np.where(EV_Title_Year == year)\n",
    "    return x"
   ]
  },
  {
   "cell_type": "code",
   "execution_count": 144,
   "id": "bbc7f9ff",
   "metadata": {},
   "outputs": [
    {
     "data": {
      "text/plain": [
       "[3.0, 13.0, 14.0, 19.0, 17.0, 32.0, 38.0, 64.0, 100.0, 147.0, 174.0]"
      ]
     },
     "execution_count": 144,
     "metadata": {},
     "output_type": "execute_result"
    }
   ],
   "source": [
    "arr = [2010, 2011, 2012, 2013, 2014, 2015, 2016, 2017, 2018, 2019, 2020] \n",
    "arr1 = []\n",
    "\n",
    "for i in range(len(arr)):\n",
    "    x = findingyears(arr[i])\n",
    "    x = np.array(x)\n",
    "    arr1.append(x.size/2)\n",
    "#EV_Title_Year.insert(loc = 2, column = \"Number of EV\", value = arr1)\n",
    "arr1"
   ]
  },
  {
   "cell_type": "code",
   "execution_count": 145,
   "id": "bef0f9c3",
   "metadata": {},
   "outputs": [
    {
     "data": {
      "text/html": [
       "<div>\n",
       "<style scoped>\n",
       "    .dataframe tbody tr th:only-of-type {\n",
       "        vertical-align: middle;\n",
       "    }\n",
       "\n",
       "    .dataframe tbody tr th {\n",
       "        vertical-align: top;\n",
       "    }\n",
       "\n",
       "    .dataframe thead th {\n",
       "        text-align: right;\n",
       "    }\n",
       "</style>\n",
       "<table border=\"1\" class=\"dataframe\">\n",
       "  <thead>\n",
       "    <tr style=\"text-align: right;\">\n",
       "      <th></th>\n",
       "      <th>Year</th>\n",
       "      <th>Total_Sold</th>\n",
       "    </tr>\n",
       "  </thead>\n",
       "  <tbody>\n",
       "    <tr>\n",
       "      <th>0</th>\n",
       "      <td>2010</td>\n",
       "      <td>3.0</td>\n",
       "    </tr>\n",
       "    <tr>\n",
       "      <th>1</th>\n",
       "      <td>2011</td>\n",
       "      <td>13.0</td>\n",
       "    </tr>\n",
       "    <tr>\n",
       "      <th>2</th>\n",
       "      <td>2012</td>\n",
       "      <td>14.0</td>\n",
       "    </tr>\n",
       "    <tr>\n",
       "      <th>3</th>\n",
       "      <td>2013</td>\n",
       "      <td>19.0</td>\n",
       "    </tr>\n",
       "    <tr>\n",
       "      <th>4</th>\n",
       "      <td>2014</td>\n",
       "      <td>17.0</td>\n",
       "    </tr>\n",
       "  </tbody>\n",
       "</table>\n",
       "</div>"
      ],
      "text/plain": [
       "   Year  Total_Sold\n",
       "0  2010         3.0\n",
       "1  2011        13.0\n",
       "2  2012        14.0\n",
       "3  2013        19.0\n",
       "4  2014        17.0"
      ]
     },
     "execution_count": 145,
     "metadata": {},
     "output_type": "execute_result"
    }
   ],
   "source": [
    "zipped = list(zip(arr, arr1))\n",
    "df = pd.DataFrame(zipped, columns=['Year', 'Total_Sold'])\n",
    "df.head()"
   ]
  },
  {
   "cell_type": "code",
   "execution_count": 146,
   "id": "496620c6",
   "metadata": {},
   "outputs": [
    {
     "data": {
      "image/png": "[encoded data removed]",
      "text/plain": [
       "<Figure size 1000x700 with 1 Axes>"
      ]
     },
     "metadata": {},
     "output_type": "display_data"
    }
   ],
   "source": [
    "fig=plt.figure(figsize = (10, 7))\n",
    "sns.barplot(x=\"Year\", y=\"Total_Sold\", data=df)\n",
    "plt.title('Year vs Total EV Sold')\n",
    "plt.xlabel('Total Sold')\n",
    "plt.ylabel('Year')\n",
    "plt.show()\n",
    "fig.savefig('Year vs Total Sold.jpg', bbox_inches='tight', dpi=150)"
   ]
  },
  {
   "cell_type": "code",
   "execution_count": 147,
   "id": "27704d53",
   "metadata": {},
   "outputs": [
    {
     "data": {
      "image/png": "[encoded data removed]",
      "text/plain": [
       "<Figure size 1000x700 with 1 Axes>"
      ]
     },
     "metadata": {},
     "output_type": "display_data"
    }
   ],
   "source": [
    "fig=plt.figure(figsize = (10, 7))\n",
    "sns.scatterplot(x=\"Year\", y=\"Total_Sold\", data=df)\n",
    "plt.title('Year vs Total EV Sold')\n",
    "plt.xlabel('Total Sold')\n",
    "plt.ylabel('Year')\n",
    "plt.show()"
   ]
  },
  {
   "cell_type": "code",
   "execution_count": 148,
   "id": "f25ca3a9",
   "metadata": {},
   "outputs": [
    {
     "name": "stdout",
     "output_type": "stream",
     "text": [
      "[[ 1.5430335]\n",
      " [ 0.3086067]\n",
      " [-1.2344268]\n",
      " [ 0.6172134]\n",
      " [ 0.9258201]\n",
      " [-0.6172134]\n",
      " [-1.5430335]\n",
      " [ 0.       ]]\n",
      "(11, 1)\n",
      "(11, 1)\n"
     ]
    }
   ],
   "source": [
    "X=np.array(df[\"Year\"].values)\n",
    "y=np.array(df[\"Total_Sold\"].values)\n",
    "\n",
    "X=X.reshape(-1,1)\n",
    "y=y.reshape(-1,1)\n",
    "\n",
    "X_train, X_test, y_train, y_test = train_test_split(X, y, test_size = 0.25, random_state = 0)\n",
    "\n",
    "from sklearn.preprocessing import StandardScaler\n",
    "sc_x = StandardScaler()\n",
    "xtrain = sc_x.fit_transform(X_train) \n",
    "xtest = sc_x.transform(X_test)\n",
    "  \n",
    "print (xtrain[0:10, :])\n",
    "print(X.shape)\n",
    "print(y.shape)"
   ]
  },
  {
   "cell_type": "code",
   "execution_count": 149,
   "id": "7173e05c",
   "metadata": {},
   "outputs": [
    {
     "data": {
      "text/html": [
       "<style>#sk-container-id-6 {color: black;background-color: white;}#sk-container-id-6 pre{padding: 0;}#sk-container-id-6 div.sk-toggleable {background-color: white;}#sk-container-id-6 label.sk-toggleable__label {cursor: pointer;display: block;width: 100%;margin-bottom: 0;padding: 0.3em;box-sizing: border-box;text-align: center;}#sk-container-id-6 label.sk-toggleable__label-arrow:before {content: \"▸\";float: left;margin-right: 0.25em;color: #696969;}#sk-container-id-6 label.sk-toggleable__label-arrow:hover:before {color: black;}#sk-container-id-6 div.sk-estimator:hover label.sk-toggleable__label-arrow:before {color: black;}#sk-container-id-6 div.sk-toggleable__content {max-height: 0;max-width: 0;overflow: hidden;text-align: left;background-color: #f0f8ff;}#sk-container-id-6 div.sk-toggleable__content pre {margin: 0.2em;color: black;border-radius: 0.25em;background-color: #f0f8ff;}#sk-container-id-6 input.sk-toggleable__control:checked~div.sk-toggleable__content {max-height: 200px;max-width: 100%;overflow: auto;}#sk-container-id-6 input.sk-toggleable__control:checked~label.sk-toggleable__label-arrow:before {content: \"▾\";}#sk-container-id-6 div.sk-estimator input.sk-toggleable__control:checked~label.sk-toggleable__label {background-color: #d4ebff;}#sk-container-id-6 div.sk-label input.sk-toggleable__control:checked~label.sk-toggleable__label {background-color: #d4ebff;}#sk-container-id-6 input.sk-hidden--visually {border: 0;clip: rect(1px 1px 1px 1px);clip: rect(1px, 1px, 1px, 1px);height: 1px;margin: -1px;overflow: hidden;padding: 0;position: absolute;width: 1px;}#sk-container-id-6 div.sk-estimator {font-family: monospace;background-color: #f0f8ff;border: 1px dotted black;border-radius: 0.25em;box-sizing: border-box;margin-bottom: 0.5em;}#sk-container-id-6 div.sk-estimator:hover {background-color: #d4ebff;}#sk-container-id-6 div.sk-parallel-item::after {content: \"\";width: 100%;border-bottom: 1px solid gray;flex-grow: 1;}#sk-container-id-6 div.sk-label:hover label.sk-toggleable__label {background-color: #d4ebff;}#sk-container-id-6 div.sk-serial::before {content: \"\";position: absolute;border-left: 1px solid gray;box-sizing: border-box;top: 0;bottom: 0;left: 50%;z-index: 0;}#sk-container-id-6 div.sk-serial {display: flex;flex-direction: column;align-items: center;background-color: white;padding-right: 0.2em;padding-left: 0.2em;position: relative;}#sk-container-id-6 div.sk-item {position: relative;z-index: 1;}#sk-container-id-6 div.sk-parallel {display: flex;align-items: stretch;justify-content: center;background-color: white;position: relative;}#sk-container-id-6 div.sk-item::before, #sk-container-id-6 div.sk-parallel-item::before {content: \"\";position: absolute;border-left: 1px solid gray;box-sizing: border-box;top: 0;bottom: 0;left: 50%;z-index: -1;}#sk-container-id-6 div.sk-parallel-item {display: flex;flex-direction: column;z-index: 1;position: relative;background-color: white;}#sk-container-id-6 div.sk-parallel-item:first-child::after {align-self: flex-end;width: 50%;}#sk-container-id-6 div.sk-parallel-item:last-child::after {align-self: flex-start;width: 50%;}#sk-container-id-6 div.sk-parallel-item:only-child::after {width: 0;}#sk-container-id-6 div.sk-dashed-wrapped {border: 1px dashed gray;margin: 0 0.4em 0.5em 0.4em;box-sizing: border-box;padding-bottom: 0.4em;background-color: white;}#sk-container-id-6 div.sk-label label {font-family: monospace;font-weight: bold;display: inline-block;line-height: 1.2em;}#sk-container-id-6 div.sk-label-container {text-align: center;}#sk-container-id-6 div.sk-container {/* jupyter's `normalize.less` sets `[hidden] { display: none; }` but bootstrap.min.css set `[hidden] { display: none !important; }` so we also need the `!important` here to be able to override the default hidden behavior on the sphinx rendered scikit-learn.org. See: https://github.com/scikit-learn/scikit-learn/issues/21755 */display: inline-block !important;position: relative;}#sk-container-id-6 div.sk-text-repr-fallback {display: none;}</style><div id=\"sk-container-id-6\" class=\"sk-top-container\"><div class=\"sk-text-repr-fallback\"><pre>LinearRegression()</pre><b>In a Jupyter environment, please rerun this cell to show the HTML representation or trust the notebook. <br />On GitHub, the HTML representation is unable to render, please try loading this page with nbviewer.org.</b></div><div class=\"sk-container\" hidden><div class=\"sk-item\"><div class=\"sk-estimator sk-toggleable\"><input class=\"sk-toggleable__control sk-hidden--visually\" id=\"sk-estimator-id-6\" type=\"checkbox\" checked><label for=\"sk-estimator-id-6\" class=\"sk-toggleable__label sk-toggleable__label-arrow\">LinearRegression</label><div class=\"sk-toggleable__content\"><pre>LinearRegression()</pre></div></div></div></div></div>"
      ],
      "text/plain": [
       "LinearRegression()"
      ]
     },
     "execution_count": 149,
     "metadata": {},
     "output_type": "execute_result"
    }
   ],
   "source": [
    "#from sklearn.linear_model import LogisticRegression\n",
    "#classifier = LogisticRegression(random_state = 0)\n",
    "#classifier.fit(X_train, y_train)\n",
    "from sklearn import datasets, linear_model, metrics\n",
    "classifier = linear_model.LinearRegression()\n",
    "classifier.fit(X_train, y_train)"
   ]
  },
  {
   "cell_type": "code",
   "execution_count": 150,
   "id": "e67cf115",
   "metadata": {},
   "outputs": [
    {
     "data": {
      "text/plain": [
       "array([[128.64880952],\n",
       "       [ 70.0297619 ],\n",
       "       [ -3.24404762],\n",
       "       [ 84.68452381],\n",
       "       [ 99.33928571],\n",
       "       [ 26.06547619],\n",
       "       [-17.89880952],\n",
       "       [ 55.375     ]])"
      ]
     },
     "execution_count": 150,
     "metadata": {},
     "output_type": "execute_result"
    }
   ],
   "source": [
    "classifier.predict(X_train)"
   ]
  },
  {
   "cell_type": "code",
   "execution_count": 151,
   "id": "f9f86280",
   "metadata": {},
   "outputs": [
    {
     "data": {
      "image/png": "[encoded data removed]",
      "text/plain": [
       "<Figure size 1000x700 with 1 Axes>"
      ]
     },
     "metadata": {},
     "output_type": "display_data"
    }
   ],
   "source": [
    "x=X_train\n",
    "y=y_train\n",
    "n = np.size(x)\n",
    "\n",
    "x_mean = np.mean(x)\n",
    "y_mean = np.mean(y)\n",
    "x_mean,y_mean\n",
    "  \n",
    "Sxy = np.sum(x*y)- n*x_mean*y_mean\n",
    "Sxx = np.sum(x*x)-n*x_mean*x_mean\n",
    "  \n",
    "b1 = Sxy/Sxx\n",
    "b0 = y_mean-b1*x_mean\n",
    "\n",
    "y_pred = classifier.predict(X_train)\n",
    "    \n",
    "fig=plt.figure(figsize = (10, 7))\n",
    "plt.title('Year vs Total EV Sold')\n",
    "sns.scatterplot(x=\"Year\", y=\"Total_Sold\", data=df)\n",
    "plt.plot(x, y_pred, color = 'green')\n",
    "plt.xlabel('Total Addded')\n",
    "plt.ylabel('Year')\n",
    "fig.savefig('Year vs Total Sold Prediction Line.jpg', bbox_inches='tight', dpi=150)"
   ]
  },
  {
   "cell_type": "code",
   "execution_count": 152,
   "id": "b11286f2",
   "metadata": {},
   "outputs": [
    {
     "name": "stdout",
     "output_type": "stream",
     "text": [
      "Variance score: 0.8561696928973869\n"
     ]
    }
   ],
   "source": [
    "print('Variance score: {}'.format(classifier.score(X_test, y_test)))"
   ]
  },
  {
   "cell_type": "code",
   "execution_count": 153,
   "id": "8966e51a",
   "metadata": {},
   "outputs": [
    {
     "name": "stdout",
     "output_type": "stream",
     "text": [
      "Slope: [[14.6547619]]\n",
      "Intercept: [-29473.9702381]\n",
      "MSE: 600.982886904764\n",
      "Root mean squared error:  24.514952312920457\n",
      "R2 score:  0.789570667064744\n"
     ]
    }
   ],
   "source": [
    "x=X_train\n",
    "y=y_train\n",
    "n = np.size(x)\n",
    "\n",
    "# Fit the data(train the model)\n",
    "classifier.fit(x, y)\n",
    "  \n",
    "# Predict\n",
    "y_predicted = classifier.predict(x)\n",
    "  \n",
    "# model evaluation\n",
    "mse=mean_squared_error(y,y_predicted)\n",
    "  \n",
    "rmse = np.sqrt(mean_squared_error(y, y_predicted))\n",
    "r2 = r2_score(y, y_predicted)\n",
    "  \n",
    "# printing values\n",
    "print('Slope:' ,classifier.coef_)\n",
    "print('Intercept:', classifier.intercept_)\n",
    "print('MSE:',mse)\n",
    "print('Root mean squared error: ', rmse)\n",
    "print('R2 score: ', r2)"
   ]
  },
  {
   "cell_type": "code",
   "execution_count": 154,
   "id": "a7a9d680",
   "metadata": {},
   "outputs": [
    {
     "data": {
      "text/plain": [
       "<bound method NDFrame.head of     Year  Total_Sold\n",
       "0   2010         3.0\n",
       "1   2011        13.0\n",
       "2   2012        14.0\n",
       "3   2013        19.0\n",
       "4   2014        17.0\n",
       "5   2015        32.0\n",
       "6   2016        38.0\n",
       "7   2017        64.0\n",
       "8   2018       100.0\n",
       "9   2019       147.0\n",
       "10  2020       174.0>"
      ]
     },
     "execution_count": 154,
     "metadata": {},
     "output_type": "execute_result"
    },
    {
     "data": {
      "image/png": "[encoded data removed]",
      "text/plain": [
       "<Figure size 1000x700 with 1 Axes>"
      ]
     },
     "metadata": {},
     "output_type": "display_data"
    }
   ],
   "source": [
    "# You haven't provided the values of X_train and y_train, so I'm going to\n",
    "# use the years list as the x values and an array of zeros as the y values\n",
    "# for this example.\n",
    "\n",
    "x = [2023,2024,2025,2026,2027,2028,2029,2030,2031,2032,2033]\n",
    "y = np.zeros(len(x))\n",
    "\n",
    "# You also haven't provided the classifier object, so I'm going to use a\n",
    "# dummy object for this example.\n",
    "\n",
    "# Now we can use the x and y values to plot the data\n",
    "\n",
    "# Reshape the x array to be a 2D array of size (n, 1) where n is the\n",
    "# number of elements in the array\n",
    "x = np.array(x).reshape(-1, 1)\n",
    "\n",
    "# Use the classifier object to predict the y values for the x values\n",
    "y_pred = classifier.predict(x)\n",
    "\n",
    "# Create a figure object with a specified size\n",
    "fig = plt.figure(figsize=(10, 7))\n",
    "\n",
    "# Add a title to the plot\n",
    "plt.title('Year vs Total EV Sold')\n",
    "\n",
    "# Plot the x and y values as a scatterplot\n",
    "sns.scatterplot(x=\"Year\", y=\"Total_Sold\", data=df)\n",
    "\n",
    "# Plot the predicted y values against the x values as a scatter plot\n",
    "plt.scatter(x, y_pred, color='green')\n",
    "\n",
    "# Label the x and y axes\n",
    "plt.xlabel('Total Added')\n",
    "plt.ylabel('Year')\n",
    "fig.savefig('Year vs Total Sold Predictions.jpg', bbox_inches='tight', dpi=150)\n",
    "df.head"
   ]
  },
  {
   "cell_type": "code",
   "execution_count": 155,
   "id": "b87f8e9d",
   "metadata": {},
   "outputs": [
    {
     "data": {
      "text/html": [
       "<div>\n",
       "<style scoped>\n",
       "    .dataframe tbody tr th:only-of-type {\n",
       "        vertical-align: middle;\n",
       "    }\n",
       "\n",
       "    .dataframe tbody tr th {\n",
       "        vertical-align: top;\n",
       "    }\n",
       "\n",
       "    .dataframe thead th {\n",
       "        text-align: right;\n",
       "    }\n",
       "</style>\n",
       "<table border=\"1\" class=\"dataframe\">\n",
       "  <thead>\n",
       "    <tr style=\"text-align: right;\">\n",
       "      <th></th>\n",
       "      <th>Year</th>\n",
       "      <th>Total_Sold</th>\n",
       "    </tr>\n",
       "  </thead>\n",
       "  <tbody>\n",
       "    <tr>\n",
       "      <th>0</th>\n",
       "      <td>2010</td>\n",
       "      <td>3.0</td>\n",
       "    </tr>\n",
       "    <tr>\n",
       "      <th>1</th>\n",
       "      <td>2011</td>\n",
       "      <td>13.0</td>\n",
       "    </tr>\n",
       "    <tr>\n",
       "      <th>2</th>\n",
       "      <td>2012</td>\n",
       "      <td>14.0</td>\n",
       "    </tr>\n",
       "    <tr>\n",
       "      <th>3</th>\n",
       "      <td>2013</td>\n",
       "      <td>19.0</td>\n",
       "    </tr>\n",
       "    <tr>\n",
       "      <th>4</th>\n",
       "      <td>2014</td>\n",
       "      <td>17.0</td>\n",
       "    </tr>\n",
       "  </tbody>\n",
       "</table>\n",
       "</div>"
      ],
      "text/plain": [
       "   Year  Total_Sold\n",
       "0  2010         3.0\n",
       "1  2011        13.0\n",
       "2  2012        14.0\n",
       "3  2013        19.0\n",
       "4  2014        17.0"
      ]
     },
     "execution_count": 155,
     "metadata": {},
     "output_type": "execute_result"
    }
   ],
   "source": [
    "zipped = zip(x,y_pred)\n",
    "df_predicted = pd.DataFrame(zipped, columns=['Year', 'Total_Sold'])\n",
    "df.head()"
   ]
  },
  {
   "cell_type": "code",
   "execution_count": 158,
   "id": "266303e1",
   "metadata": {},
   "outputs": [
    {
     "data": {
      "text/html": [
       "<div>\n",
       "<style scoped>\n",
       "    .dataframe tbody tr th:only-of-type {\n",
       "        vertical-align: middle;\n",
       "    }\n",
       "\n",
       "    .dataframe tbody tr th {\n",
       "        vertical-align: top;\n",
       "    }\n",
       "\n",
       "    .dataframe thead th {\n",
       "        text-align: right;\n",
       "    }\n",
       "</style>\n",
       "<table border=\"1\" class=\"dataframe\">\n",
       "  <thead>\n",
       "    <tr style=\"text-align: right;\">\n",
       "      <th></th>\n",
       "      <th>Year</th>\n",
       "      <th>Total_Sold</th>\n",
       "    </tr>\n",
       "  </thead>\n",
       "  <tbody>\n",
       "    <tr>\n",
       "      <th>0</th>\n",
       "      <td>2010</td>\n",
       "      <td>3.0</td>\n",
       "    </tr>\n",
       "    <tr>\n",
       "      <th>1</th>\n",
       "      <td>2011</td>\n",
       "      <td>13.0</td>\n",
       "    </tr>\n",
       "    <tr>\n",
       "      <th>2</th>\n",
       "      <td>2012</td>\n",
       "      <td>14.0</td>\n",
       "    </tr>\n",
       "    <tr>\n",
       "      <th>3</th>\n",
       "      <td>2013</td>\n",
       "      <td>19.0</td>\n",
       "    </tr>\n",
       "    <tr>\n",
       "      <th>4</th>\n",
       "      <td>2014</td>\n",
       "      <td>17.0</td>\n",
       "    </tr>\n",
       "    <tr>\n",
       "      <th>5</th>\n",
       "      <td>2015</td>\n",
       "      <td>32.0</td>\n",
       "    </tr>\n",
       "    <tr>\n",
       "      <th>6</th>\n",
       "      <td>2016</td>\n",
       "      <td>38.0</td>\n",
       "    </tr>\n",
       "    <tr>\n",
       "      <th>7</th>\n",
       "      <td>2017</td>\n",
       "      <td>64.0</td>\n",
       "    </tr>\n",
       "    <tr>\n",
       "      <th>8</th>\n",
       "      <td>2018</td>\n",
       "      <td>100.0</td>\n",
       "    </tr>\n",
       "    <tr>\n",
       "      <th>9</th>\n",
       "      <td>2019</td>\n",
       "      <td>147.0</td>\n",
       "    </tr>\n",
       "    <tr>\n",
       "      <th>10</th>\n",
       "      <td>2020</td>\n",
       "      <td>174.0</td>\n",
       "    </tr>\n",
       "    <tr>\n",
       "      <th>0</th>\n",
       "      <td>[2023]</td>\n",
       "      <td>[172.6130952380954]</td>\n",
       "    </tr>\n",
       "    <tr>\n",
       "      <th>1</th>\n",
       "      <td>[2024]</td>\n",
       "      <td>[187.26785714285506]</td>\n",
       "    </tr>\n",
       "    <tr>\n",
       "      <th>2</th>\n",
       "      <td>[2025]</td>\n",
       "      <td>[201.92261904761835]</td>\n",
       "    </tr>\n",
       "    <tr>\n",
       "      <th>3</th>\n",
       "      <td>[2026]</td>\n",
       "      <td>[216.577380952378]</td>\n",
       "    </tr>\n",
       "    <tr>\n",
       "      <th>4</th>\n",
       "      <td>[2027]</td>\n",
       "      <td>[231.2321428571413]</td>\n",
       "    </tr>\n",
       "    <tr>\n",
       "      <th>5</th>\n",
       "      <td>[2028]</td>\n",
       "      <td>[245.8869047619046]</td>\n",
       "    </tr>\n",
       "    <tr>\n",
       "      <th>6</th>\n",
       "      <td>[2029]</td>\n",
       "      <td>[260.54166666666424]</td>\n",
       "    </tr>\n",
       "    <tr>\n",
       "      <th>7</th>\n",
       "      <td>[2030]</td>\n",
       "      <td>[275.19642857142753]</td>\n",
       "    </tr>\n",
       "    <tr>\n",
       "      <th>8</th>\n",
       "      <td>[2031]</td>\n",
       "      <td>[289.8511904761872]</td>\n",
       "    </tr>\n",
       "    <tr>\n",
       "      <th>9</th>\n",
       "      <td>[2032]</td>\n",
       "      <td>[304.5059523809505]</td>\n",
       "    </tr>\n",
       "    <tr>\n",
       "      <th>10</th>\n",
       "      <td>[2033]</td>\n",
       "      <td>[319.16071428571377]</td>\n",
       "    </tr>\n",
       "  </tbody>\n",
       "</table>\n",
       "</div>"
      ],
      "text/plain": [
       "      Year            Total_Sold\n",
       "0     2010                   3.0\n",
       "1     2011                  13.0\n",
       "2     2012                  14.0\n",
       "3     2013                  19.0\n",
       "4     2014                  17.0\n",
       "5     2015                  32.0\n",
       "6     2016                  38.0\n",
       "7     2017                  64.0\n",
       "8     2018                 100.0\n",
       "9     2019                 147.0\n",
       "10    2020                 174.0\n",
       "0   [2023]   [172.6130952380954]\n",
       "1   [2024]  [187.26785714285506]\n",
       "2   [2025]  [201.92261904761835]\n",
       "3   [2026]    [216.577380952378]\n",
       "4   [2027]   [231.2321428571413]\n",
       "5   [2028]   [245.8869047619046]\n",
       "6   [2029]  [260.54166666666424]\n",
       "7   [2030]  [275.19642857142753]\n",
       "8   [2031]   [289.8511904761872]\n",
       "9   [2032]   [304.5059523809505]\n",
       "10  [2033]  [319.16071428571377]"
      ]
     },
     "execution_count": 158,
     "metadata": {},
     "output_type": "execute_result"
    }
   ],
   "source": [
    "df_output = df.append(df_predicted)\n",
    "df.to_csv('predicted_vehicles.csv')\n",
    "df_output"
   ]
  },
  {
   "cell_type": "code",
   "execution_count": 94,
   "id": "260e7b0d",
   "metadata": {},
   "outputs": [],
   "source": [
    "from sklearn.svm import SVC "
   ]
  },
  {
   "cell_type": "code",
   "execution_count": 22,
   "id": "71789ea7",
   "metadata": {},
   "outputs": [
    {
     "data": {
      "text/html": [
       "<style>#sk-container-id-2 {color: black;background-color: white;}#sk-container-id-2 pre{padding: 0;}#sk-container-id-2 div.sk-toggleable {background-color: white;}#sk-container-id-2 label.sk-toggleable__label {cursor: pointer;display: block;width: 100%;margin-bottom: 0;padding: 0.3em;box-sizing: border-box;text-align: center;}#sk-container-id-2 label.sk-toggleable__label-arrow:before {content: \"▸\";float: left;margin-right: 0.25em;color: #696969;}#sk-container-id-2 label.sk-toggleable__label-arrow:hover:before {color: black;}#sk-container-id-2 div.sk-estimator:hover label.sk-toggleable__label-arrow:before {color: black;}#sk-container-id-2 div.sk-toggleable__content {max-height: 0;max-width: 0;overflow: hidden;text-align: left;background-color: #f0f8ff;}#sk-container-id-2 div.sk-toggleable__content pre {margin: 0.2em;color: black;border-radius: 0.25em;background-color: #f0f8ff;}#sk-container-id-2 input.sk-toggleable__control:checked~div.sk-toggleable__content {max-height: 200px;max-width: 100%;overflow: auto;}#sk-container-id-2 input.sk-toggleable__control:checked~label.sk-toggleable__label-arrow:before {content: \"▾\";}#sk-container-id-2 div.sk-estimator input.sk-toggleable__control:checked~label.sk-toggleable__label {background-color: #d4ebff;}#sk-container-id-2 div.sk-label input.sk-toggleable__control:checked~label.sk-toggleable__label {background-color: #d4ebff;}#sk-container-id-2 input.sk-hidden--visually {border: 0;clip: rect(1px 1px 1px 1px);clip: rect(1px, 1px, 1px, 1px);height: 1px;margin: -1px;overflow: hidden;padding: 0;position: absolute;width: 1px;}#sk-container-id-2 div.sk-estimator {font-family: monospace;background-color: #f0f8ff;border: 1px dotted black;border-radius: 0.25em;box-sizing: border-box;margin-bottom: 0.5em;}#sk-container-id-2 div.sk-estimator:hover {background-color: #d4ebff;}#sk-container-id-2 div.sk-parallel-item::after {content: \"\";width: 100%;border-bottom: 1px solid gray;flex-grow: 1;}#sk-container-id-2 div.sk-label:hover label.sk-toggleable__label {background-color: #d4ebff;}#sk-container-id-2 div.sk-serial::before {content: \"\";position: absolute;border-left: 1px solid gray;box-sizing: border-box;top: 0;bottom: 0;left: 50%;z-index: 0;}#sk-container-id-2 div.sk-serial {display: flex;flex-direction: column;align-items: center;background-color: white;padding-right: 0.2em;padding-left: 0.2em;position: relative;}#sk-container-id-2 div.sk-item {position: relative;z-index: 1;}#sk-container-id-2 div.sk-parallel {display: flex;align-items: stretch;justify-content: center;background-color: white;position: relative;}#sk-container-id-2 div.sk-item::before, #sk-container-id-2 div.sk-parallel-item::before {content: \"\";position: absolute;border-left: 1px solid gray;box-sizing: border-box;top: 0;bottom: 0;left: 50%;z-index: -1;}#sk-container-id-2 div.sk-parallel-item {display: flex;flex-direction: column;z-index: 1;position: relative;background-color: white;}#sk-container-id-2 div.sk-parallel-item:first-child::after {align-self: flex-end;width: 50%;}#sk-container-id-2 div.sk-parallel-item:last-child::after {align-self: flex-start;width: 50%;}#sk-container-id-2 div.sk-parallel-item:only-child::after {width: 0;}#sk-container-id-2 div.sk-dashed-wrapped {border: 1px dashed gray;margin: 0 0.4em 0.5em 0.4em;box-sizing: border-box;padding-bottom: 0.4em;background-color: white;}#sk-container-id-2 div.sk-label label {font-family: monospace;font-weight: bold;display: inline-block;line-height: 1.2em;}#sk-container-id-2 div.sk-label-container {text-align: center;}#sk-container-id-2 div.sk-container {/* jupyter's `normalize.less` sets `[hidden] { display: none; }` but bootstrap.min.css set `[hidden] { display: none !important; }` so we also need the `!important` here to be able to override the default hidden behavior on the sphinx rendered scikit-learn.org. See: https://github.com/scikit-learn/scikit-learn/issues/21755 */display: inline-block !important;position: relative;}#sk-container-id-2 div.sk-text-repr-fallback {display: none;}</style><div id=\"sk-container-id-2\" class=\"sk-top-container\"><div class=\"sk-text-repr-fallback\"><pre>SVC(kernel=&#x27;sigmoid&#x27;, random_state=1)</pre><b>In a Jupyter environment, please rerun this cell to show the HTML representation or trust the notebook. <br />On GitHub, the HTML representation is unable to render, please try loading this page with nbviewer.org.</b></div><div class=\"sk-container\" hidden><div class=\"sk-item\"><div class=\"sk-estimator sk-toggleable\"><input class=\"sk-toggleable__control sk-hidden--visually\" id=\"sk-estimator-id-2\" type=\"checkbox\" checked><label for=\"sk-estimator-id-2\" class=\"sk-toggleable__label sk-toggleable__label-arrow\">SVC</label><div class=\"sk-toggleable__content\"><pre>SVC(kernel=&#x27;sigmoid&#x27;, random_state=1)</pre></div></div></div></div></div>"
      ],
      "text/plain": [
       "SVC(kernel='sigmoid', random_state=1)"
      ]
     },
     "execution_count": 22,
     "metadata": {},
     "output_type": "execute_result"
    }
   ],
   "source": [
    "svm = SVC(kernel='sigmoid', random_state=1)\n",
    "svm.fit(X=X_train, y=y_train)"
   ]
  },
  {
   "cell_type": "code",
   "execution_count": 23,
   "id": "719b141d",
   "metadata": {},
   "outputs": [
    {
     "data": {
      "text/plain": [
       "array([174., 174., 174.])"
      ]
     },
     "execution_count": 23,
     "metadata": {},
     "output_type": "execute_result"
    }
   ],
   "source": [
    "y_pred = svm.predict(X=X_test)\n",
    "y_pred"
   ]
  },
  {
   "cell_type": "code",
   "execution_count": 24,
   "id": "79a37531",
   "metadata": {},
   "outputs": [
    {
     "data": {
      "text/plain": [
       "Text(0, 0.5, 'Year')"
      ]
     },
     "execution_count": 24,
     "metadata": {},
     "output_type": "execute_result"
    },
    {
     "data": {
      "image/png": "[encoded data removed]",
      "text/plain": [
       "<Figure size 1000x700 with 1 Axes>"
      ]
     },
     "metadata": {},
     "output_type": "display_data"
    }
   ],
   "source": [
    "# You haven't provided the values of X_train and y_train, so I'm going to\n",
    "# use the years list as the x values and an array of zeros as the y values\n",
    "# for this example.\n",
    "\n",
    "x = [2023,2024,2025,2026,2027,2028,2029,2030,2031,2032,2033]\n",
    "y = np.zeros(len(x))\n",
    "\n",
    "# You also haven't provided the classifier object, so I'm going to use a\n",
    "# dummy object for this example.\n",
    "\n",
    "# Now we can use the x and y values to plot the data\n",
    "\n",
    "# Reshape the x array to be a 2D array of size (n, 1) where n is the\n",
    "# number of elements in the array\n",
    "x = np.array(x).reshape(-1, 1)\n",
    "\n",
    "# Use the classifier object to predict the y values for the x values\n",
    "y_pred = svm.predict(X=x)\n",
    "# Create a figure object with a specified size\n",
    "fig = plt.figure(figsize=(10, 7))\n",
    "\n",
    "# Add a title to the plot\n",
    "plt.title('Year vs Total EV Sold')\n",
    "\n",
    "# Plot the x and y values as a scatterplot\n",
    "sns.scatterplot(x=\"Year\", y=\"Total_Sold\", data=df)\n",
    "\n",
    "# Plot the predicted y values against the x values as a scatter plot\n",
    "plt.scatter(x, y_pred, color='green')\n",
    "\n",
    "# Label the x and y axes\n",
    "plt.xlabel('Total Added')\n",
    "plt.ylabel('Year')"
   ]
  },
  {
   "cell_type": "code",
   "execution_count": 25,
   "id": "c05adb6e",
   "metadata": {},
   "outputs": [],
   "source": [
    "import torch as tn"
   ]
  },
  {
   "cell_type": "code",
   "execution_count": 26,
   "id": "05c6e7df",
   "metadata": {},
   "outputs": [],
   "source": [
    "X=np.array(df[\"Year\"].values)\n",
    "y=np.array(df[\"Total_Sold\"].values)\n",
    "\n",
    "X=X.reshape(-1,1)\n",
    "y=y.reshape(-1,1)"
   ]
  },
  {
   "cell_type": "code",
   "execution_count": 27,
   "id": "eb4ec305",
   "metadata": {},
   "outputs": [
    {
     "name": "stdout",
     "output_type": "stream",
     "text": [
      "(11, 1)\n",
      "[[2010]\n",
      " [2011]\n",
      " [2012]\n",
      " [2013]\n",
      " [2014]\n",
      " [2015]\n",
      " [2016]\n",
      " [2017]\n",
      " [2018]\n",
      " [2019]\n",
      " [2020]]\n"
     ]
    }
   ],
   "source": [
    "print(X.shape)\n",
    "print(X)"
   ]
  },
  {
   "cell_type": "code",
   "execution_count": 28,
   "id": "00edac4b",
   "metadata": {},
   "outputs": [
    {
     "name": "stdout",
     "output_type": "stream",
     "text": [
      "(11, 1)\n",
      "[[  3.]\n",
      " [ 13.]\n",
      " [ 14.]\n",
      " [ 19.]\n",
      " [ 17.]\n",
      " [ 32.]\n",
      " [ 38.]\n",
      " [ 64.]\n",
      " [100.]\n",
      " [147.]\n",
      " [174.]]\n"
     ]
    }
   ],
   "source": [
    "print(y.shape)\n",
    "print(y)"
   ]
  },
  {
   "cell_type": "code",
   "execution_count": 29,
   "id": "50122b3d",
   "metadata": {},
   "outputs": [
    {
     "name": "stdout",
     "output_type": "stream",
     "text": [
      "Epoch 1/10\n",
      "1/1 [==============================] - 1s 788ms/step - loss: 5871.7129\n",
      "Epoch 2/10\n",
      "1/1 [==============================] - 0s 6ms/step - loss: 5871.4946\n",
      "Epoch 3/10\n",
      "1/1 [==============================] - 0s 9ms/step - loss: 5871.2759\n",
      "Epoch 4/10\n",
      "1/1 [==============================] - 0s 6ms/step - loss: 5871.0576\n",
      "Epoch 5/10\n",
      "1/1 [==============================] - 0s 6ms/step - loss: 5870.8389\n",
      "Epoch 6/10\n",
      "1/1 [==============================] - 0s 6ms/step - loss: 5870.6201\n",
      "Epoch 7/10\n",
      "1/1 [==============================] - 0s 5ms/step - loss: 5870.4014\n",
      "Epoch 8/10\n",
      "1/1 [==============================] - 0s 6ms/step - loss: 5870.1826\n",
      "Epoch 9/10\n",
      "1/1 [==============================] - 0s 6ms/step - loss: 5869.9634\n",
      "Epoch 10/10\n",
      "1/1 [==============================] - 0s 6ms/step - loss: 5869.7441\n"
     ]
    },
    {
     "data": {
      "text/plain": [
       "<keras.callbacks.History at 0x24a020017f0>"
      ]
     },
     "execution_count": 29,
     "metadata": {},
     "output_type": "execute_result"
    }
   ],
   "source": [
    "import tensorflow as tf\n",
    "from tensorflow import keras\n",
    "\n",
    "X_train, X_test, y_train, y_test = train_test_split(X, y, test_size = 0.25, random_state = 0)\n",
    "\n",
    "\n",
    "# Define the model\n",
    "model = keras.Sequential([\n",
    "    # Add a dense layer with 11 neurons and an input shape of (1,)\n",
    "    keras.layers.Dense(11, input_shape=(1,)),\n",
    "    # Add a sigmoid activation function\n",
    "    keras.layers.Activation('sigmoid'),\n",
    "    # Add a dense layer with 1 neuron and a sigmoid activation function\n",
    "    keras.layers.Dense(1, activation='sigmoid')\n",
    "])\n",
    "\n",
    "# Compile the model\n",
    "model.compile(optimizer=tf.optimizers.Adam(), loss='mean_squared_error')\n",
    "\n",
    "# Fit the model on the data\n",
    "model.fit(X_train, y_train, epochs=10)"
   ]
  },
  {
   "cell_type": "code",
   "execution_count": 30,
   "id": "0a5fe876",
   "metadata": {},
   "outputs": [
    {
     "data": {
      "text/plain": [
       "7308.02197265625"
      ]
     },
     "execution_count": 30,
     "metadata": {},
     "output_type": "execute_result"
    }
   ],
   "source": [
    "# Evaluate the model on the testing data\n",
    "score = model.evaluate(X_test, y_test, verbose=0)\n",
    "score"
   ]
  },
  {
   "cell_type": "code",
   "execution_count": 31,
   "id": "f3b95dbb",
   "metadata": {},
   "outputs": [
    {
     "name": "stdout",
     "output_type": "stream",
     "text": [
      "Epoch 1/10\n",
      "1/1 [==============================] - 1s 566ms/step - loss: 5869.5244 - accuracy: 0.0000e+00\n",
      "Epoch 2/10\n",
      "1/1 [==============================] - 0s 6ms/step - loss: 5824.4053 - accuracy: 0.0000e+00\n",
      "Epoch 3/10\n",
      "1/1 [==============================] - 0s 6ms/step - loss: 5818.0342 - accuracy: 0.0000e+00\n",
      "Epoch 4/10\n",
      "1/1 [==============================] - 0s 6ms/step - loss: 5816.2705 - accuracy: 0.0000e+00\n",
      "Epoch 5/10\n",
      "1/1 [==============================] - 0s 6ms/step - loss: 5815.3975 - accuracy: 0.0000e+00\n",
      "Epoch 6/10\n",
      "1/1 [==============================] - 0s 6ms/step - loss: 5814.8696 - accuracy: 0.0000e+00\n",
      "Epoch 7/10\n",
      "1/1 [==============================] - 0s 7ms/step - loss: 5814.5137 - accuracy: 0.0000e+00\n",
      "Epoch 8/10\n",
      "1/1 [==============================] - 0s 6ms/step - loss: 5814.2568 - accuracy: 0.0000e+00\n",
      "Epoch 9/10\n",
      "1/1 [==============================] - 0s 6ms/step - loss: 5814.0625 - accuracy: 0.0000e+00\n",
      "Epoch 10/10\n",
      "1/1 [==============================] - 0s 6ms/step - loss: 5813.9102 - accuracy: 0.0000e+00\n"
     ]
    },
    {
     "data": {
      "text/plain": [
       "<keras.callbacks.History at 0x24a03129e20>"
      ]
     },
     "execution_count": 31,
     "metadata": {},
     "output_type": "execute_result"
    }
   ],
   "source": [
    "model.compile(optimizer=tf.optimizers.SGD(learning_rate=0.01, momentum=0.0, nesterov=False), loss='mean_squared_error', metrics=['accuracy'])\n",
    "model.fit(X_train, y_train, epochs=10)"
   ]
  },
  {
   "cell_type": "code",
   "execution_count": 32,
   "id": "e88301f6",
   "metadata": {},
   "outputs": [
    {
     "data": {
      "text/plain": [
       "[7248.24609375, 0.0]"
      ]
     },
     "execution_count": 32,
     "metadata": {},
     "output_type": "execute_result"
    }
   ],
   "source": [
    "# Evaluate the model on the testing data\n",
    "score = model.evaluate(X_test, y_test, verbose=0)\n",
    "score"
   ]
  },
  {
   "cell_type": "code",
   "execution_count": 33,
   "id": "7d534d2c",
   "metadata": {},
   "outputs": [
    {
     "name": "stdout",
     "output_type": "stream",
     "text": [
      "Epoch 1/10\n",
      "1/1 [==============================] - 1s 755ms/step - loss: 5813.7871 - accuracy: 0.0000e+00\n",
      "Epoch 2/10\n",
      "1/1 [==============================] - 0s 7ms/step - loss: 5813.5293 - accuracy: 0.0000e+00\n",
      "Epoch 3/10\n",
      "1/1 [==============================] - 0s 7ms/step - loss: 5813.3965 - accuracy: 0.0000e+00\n",
      "Epoch 4/10\n",
      "1/1 [==============================] - 0s 7ms/step - loss: 5813.3057 - accuracy: 0.0000e+00\n",
      "Epoch 5/10\n",
      "1/1 [==============================] - 0s 6ms/step - loss: 5813.2378 - accuracy: 0.0000e+00\n",
      "Epoch 6/10\n",
      "1/1 [==============================] - 0s 6ms/step - loss: 5813.1831 - accuracy: 0.0000e+00\n",
      "Epoch 7/10\n",
      "1/1 [==============================] - 0s 6ms/step - loss: 5813.1377 - accuracy: 0.0000e+00\n",
      "Epoch 8/10\n",
      "1/1 [==============================] - 0s 6ms/step - loss: 5813.0996 - accuracy: 0.0000e+00\n",
      "Epoch 9/10\n",
      "1/1 [==============================] - 0s 6ms/step - loss: 5813.0664 - accuracy: 0.0000e+00\n",
      "Epoch 10/10\n",
      "1/1 [==============================] - 0s 6ms/step - loss: 5813.0371 - accuracy: 0.0000e+00\n"
     ]
    },
    {
     "data": {
      "text/plain": [
       "<keras.callbacks.History at 0x24a028bfc70>"
      ]
     },
     "execution_count": 33,
     "metadata": {},
     "output_type": "execute_result"
    }
   ],
   "source": [
    "# Compile the model\n",
    "model.compile(optimizer=tf.optimizers.RMSprop(learning_rate=0.01, rho=0.9), loss='mean_squared_error', metrics=['accuracy'])\n",
    "\n",
    "# Fit the model on the data\n",
    "model.fit(X_train, y_train, epochs=10)\n"
   ]
  },
  {
   "cell_type": "code",
   "execution_count": 34,
   "id": "af0dae8e",
   "metadata": {},
   "outputs": [],
   "source": [
    "# Define the model\n",
    "model = keras.Sequential([\n",
    "    # Add a dense layer with 11 neurons and an input shape of (1,), with l2 regularization\n",
    "    keras.layers.Dense(11, input_shape=(1,), kernel_regularizer=keras.regularizers.l2(0.0001)),\n",
    "    # Add a sigmoid activation function\n",
    "    keras.layers.Activation('relu'),\n",
    "    # Add a dense layer with 1 neuron and a sigmoid activation function, with l2 regularization\n",
    "    keras.layers.Dense(1, activation='relu', kernel_regularizer=keras.regularizers.l2(0.0001))\n",
    "])\n"
   ]
  },
  {
   "cell_type": "code",
   "execution_count": 35,
   "id": "546b1699",
   "metadata": {},
   "outputs": [
    {
     "name": "stdout",
     "output_type": "stream",
     "text": [
      "Epoch 1/10\n",
      "1/1 [==============================] - 1s 571ms/step - loss: 897494.1250 - accuracy: 0.0000e+00\n",
      "Epoch 2/10\n",
      "1/1 [==============================] - 0s 7ms/step - loss: 5947.6592 - accuracy: 0.0000e+00\n",
      "Epoch 3/10\n",
      "1/1 [==============================] - 0s 7ms/step - loss: 5947.6592 - accuracy: 0.0000e+00\n",
      "Epoch 4/10\n",
      "1/1 [==============================] - 0s 6ms/step - loss: 5947.6592 - accuracy: 0.0000e+00\n",
      "Epoch 5/10\n",
      "1/1 [==============================] - 0s 6ms/step - loss: 5947.6592 - accuracy: 0.0000e+00\n",
      "Epoch 6/10\n",
      "1/1 [==============================] - 0s 5ms/step - loss: 5947.6592 - accuracy: 0.0000e+00\n",
      "Epoch 7/10\n",
      "1/1 [==============================] - 0s 5ms/step - loss: 5947.6592 - accuracy: 0.0000e+00\n",
      "Epoch 8/10\n",
      "1/1 [==============================] - 0s 5ms/step - loss: 5947.6592 - accuracy: 0.0000e+00\n",
      "Epoch 9/10\n",
      "1/1 [==============================] - 0s 6ms/step - loss: 5947.6592 - accuracy: 0.0000e+00\n",
      "Epoch 10/10\n",
      "1/1 [==============================] - 0s 6ms/step - loss: 5947.6592 - accuracy: 0.0000e+00\n"
     ]
    },
    {
     "data": {
      "text/plain": [
       "<keras.callbacks.History at 0x24a02906670>"
      ]
     },
     "execution_count": 35,
     "metadata": {},
     "output_type": "execute_result"
    }
   ],
   "source": [
    "model.compile(optimizer=tf.optimizers.SGD(learning_rate=0.0001, momentum=0.0, nesterov=False), loss='mean_squared_error', metrics=['accuracy'])\n",
    "model.fit(X_train, y_train, epochs=10)"
   ]
  },
  {
   "cell_type": "code",
   "execution_count": 36,
   "id": "74b7eae8",
   "metadata": {},
   "outputs": [],
   "source": [
    "from tpot import TPOTRegressor\n",
    "\n",
    "tpot = TPOTRegressor(generations=5, population_size=20, verbosity=2, random_state=42, config_dict={\n",
    "    'sklearn.tree.DecisionTreeRegressor': {\n",
    "        'max_depth': range(1, 11),\n",
    "        'min_samples_split': range(2, 21),\n",
    "        'min_samples_leaf': range(1, 21)\n",
    "    }\n",
    "})"
   ]
  },
  {
   "cell_type": "code",
   "execution_count": 37,
   "id": "40e83fb6",
   "metadata": {},
   "outputs": [
    {
     "data": {
      "application/vnd.jupyter.widget-view+json": {
       "model_id": "",
       "version_major": 2,
       "version_minor": 0
      },
      "text/plain": [
       "Optimization Progress:   0%|          | 0/120 [00:00<?, ?pipeline/s]"
      ]
     },
     "metadata": {},
     "output_type": "display_data"
    },
    {
     "name": "stdout",
     "output_type": "stream",
     "text": [
      "\n",
      "Generation 1 - Current best internal CV score: -365.9158986725889\n",
      "\n",
      "Generation 2 - Current best internal CV score: -365.9158986725889\n",
      "\n",
      "Generation 3 - Current best internal CV score: -365.9158986725889\n",
      "\n",
      "Generation 4 - Current best internal CV score: -320.38610664942945\n",
      "\n",
      "Generation 5 - Current best internal CV score: -320.38610664942945\n",
      "\n",
      "Best pipeline: ElasticNetCV(input_matrix, l1_ratio=0.05, tol=0.0001)\n",
      "-221.2788947474465\n"
     ]
    }
   ],
   "source": [
    "X=X.reshape(-1,1)\n",
    "y=y.reshape(-1,1)\n",
    "\n",
    "X=np.array(df[\"Year\"].values)\n",
    "y=np.array(df[\"Total_Sold\"].values)\n",
    "\n",
    "X=X.reshape(-1,1)\n",
    "y=y.reshape(-1,1)\n",
    "\n",
    "X_train, X_test, y_train, y_test = train_test_split(X, y, test_size=0.3, random_state=42)\n",
    "\n",
    "X_train = X_train.astype(np.int64)\n",
    "X_test = X_test.astype(np.int64)\n",
    "\n",
    "y_train = y_train.astype(np.int64)\n",
    "y_test = y_test.astype(np.int64)\n",
    "\n",
    "tpot = TPOTRegressor(generations=5, population_size=20, verbosity=2, random_state=42)\n",
    "\n",
    "# Fit the regressor on the training data.\n",
    "tpot.fit(X_train, y_train)\n",
    "\n",
    "# Evaluate the model on the test set.\n",
    "print(tpot.score(X_train, y_train))"
   ]
  },
  {
   "cell_type": "code",
   "execution_count": 38,
   "id": "520a28d6",
   "metadata": {},
   "outputs": [],
   "source": [
    "from sklearn.ensemble import RandomForestClassifier"
   ]
  },
  {
   "cell_type": "code",
   "execution_count": 39,
   "id": "d9f42636",
   "metadata": {},
   "outputs": [
    {
     "data": {
      "text/html": [
       "<style>#sk-container-id-3 {color: black;background-color: white;}#sk-container-id-3 pre{padding: 0;}#sk-container-id-3 div.sk-toggleable {background-color: white;}#sk-container-id-3 label.sk-toggleable__label {cursor: pointer;display: block;width: 100%;margin-bottom: 0;padding: 0.3em;box-sizing: border-box;text-align: center;}#sk-container-id-3 label.sk-toggleable__label-arrow:before {content: \"▸\";float: left;margin-right: 0.25em;color: #696969;}#sk-container-id-3 label.sk-toggleable__label-arrow:hover:before {color: black;}#sk-container-id-3 div.sk-estimator:hover label.sk-toggleable__label-arrow:before {color: black;}#sk-container-id-3 div.sk-toggleable__content {max-height: 0;max-width: 0;overflow: hidden;text-align: left;background-color: #f0f8ff;}#sk-container-id-3 div.sk-toggleable__content pre {margin: 0.2em;color: black;border-radius: 0.25em;background-color: #f0f8ff;}#sk-container-id-3 input.sk-toggleable__control:checked~div.sk-toggleable__content {max-height: 200px;max-width: 100%;overflow: auto;}#sk-container-id-3 input.sk-toggleable__control:checked~label.sk-toggleable__label-arrow:before {content: \"▾\";}#sk-container-id-3 div.sk-estimator input.sk-toggleable__control:checked~label.sk-toggleable__label {background-color: #d4ebff;}#sk-container-id-3 div.sk-label input.sk-toggleable__control:checked~label.sk-toggleable__label {background-color: #d4ebff;}#sk-container-id-3 input.sk-hidden--visually {border: 0;clip: rect(1px 1px 1px 1px);clip: rect(1px, 1px, 1px, 1px);height: 1px;margin: -1px;overflow: hidden;padding: 0;position: absolute;width: 1px;}#sk-container-id-3 div.sk-estimator {font-family: monospace;background-color: #f0f8ff;border: 1px dotted black;border-radius: 0.25em;box-sizing: border-box;margin-bottom: 0.5em;}#sk-container-id-3 div.sk-estimator:hover {background-color: #d4ebff;}#sk-container-id-3 div.sk-parallel-item::after {content: \"\";width: 100%;border-bottom: 1px solid gray;flex-grow: 1;}#sk-container-id-3 div.sk-label:hover label.sk-toggleable__label {background-color: #d4ebff;}#sk-container-id-3 div.sk-serial::before {content: \"\";position: absolute;border-left: 1px solid gray;box-sizing: border-box;top: 0;bottom: 0;left: 50%;z-index: 0;}#sk-container-id-3 div.sk-serial {display: flex;flex-direction: column;align-items: center;background-color: white;padding-right: 0.2em;padding-left: 0.2em;position: relative;}#sk-container-id-3 div.sk-item {position: relative;z-index: 1;}#sk-container-id-3 div.sk-parallel {display: flex;align-items: stretch;justify-content: center;background-color: white;position: relative;}#sk-container-id-3 div.sk-item::before, #sk-container-id-3 div.sk-parallel-item::before {content: \"\";position: absolute;border-left: 1px solid gray;box-sizing: border-box;top: 0;bottom: 0;left: 50%;z-index: -1;}#sk-container-id-3 div.sk-parallel-item {display: flex;flex-direction: column;z-index: 1;position: relative;background-color: white;}#sk-container-id-3 div.sk-parallel-item:first-child::after {align-self: flex-end;width: 50%;}#sk-container-id-3 div.sk-parallel-item:last-child::after {align-self: flex-start;width: 50%;}#sk-container-id-3 div.sk-parallel-item:only-child::after {width: 0;}#sk-container-id-3 div.sk-dashed-wrapped {border: 1px dashed gray;margin: 0 0.4em 0.5em 0.4em;box-sizing: border-box;padding-bottom: 0.4em;background-color: white;}#sk-container-id-3 div.sk-label label {font-family: monospace;font-weight: bold;display: inline-block;line-height: 1.2em;}#sk-container-id-3 div.sk-label-container {text-align: center;}#sk-container-id-3 div.sk-container {/* jupyter's `normalize.less` sets `[hidden] { display: none; }` but bootstrap.min.css set `[hidden] { display: none !important; }` so we also need the `!important` here to be able to override the default hidden behavior on the sphinx rendered scikit-learn.org. See: https://github.com/scikit-learn/scikit-learn/issues/21755 */display: inline-block !important;position: relative;}#sk-container-id-3 div.sk-text-repr-fallback {display: none;}</style><div id=\"sk-container-id-3\" class=\"sk-top-container\"><div class=\"sk-text-repr-fallback\"><pre>RandomForestClassifier()</pre><b>In a Jupyter environment, please rerun this cell to show the HTML representation or trust the notebook. <br />On GitHub, the HTML representation is unable to render, please try loading this page with nbviewer.org.</b></div><div class=\"sk-container\" hidden><div class=\"sk-item\"><div class=\"sk-estimator sk-toggleable\"><input class=\"sk-toggleable__control sk-hidden--visually\" id=\"sk-estimator-id-3\" type=\"checkbox\" checked><label for=\"sk-estimator-id-3\" class=\"sk-toggleable__label sk-toggleable__label-arrow\">RandomForestClassifier</label><div class=\"sk-toggleable__content\"><pre>RandomForestClassifier()</pre></div></div></div></div></div>"
      ],
      "text/plain": [
       "RandomForestClassifier()"
      ]
     },
     "execution_count": 39,
     "metadata": {},
     "output_type": "execute_result"
    }
   ],
   "source": [
    "svm = SVC(kernel='linear')\n",
    "rf = RandomForestClassifier(n_estimators=100)\n",
    "svm.fit(X_train, y_train)\n",
    "rf.fit(X_train, y_train)"
   ]
  },
  {
   "cell_type": "code",
   "execution_count": 40,
   "id": "f88f665c",
   "metadata": {},
   "outputs": [
    {
     "name": "stdout",
     "output_type": "stream",
     "text": [
      "Accuracy: 0.0\n",
      "Accuracy: 0.0\n"
     ]
    }
   ],
   "source": [
    "svm_score = svm.score(X_test, y_test)\n",
    "rf_score = rf.score(X_test, y_test)\n",
    "print(\"Accuracy:\", svm_score)\n",
    "print(\"Accuracy:\", rf_score)\n"
   ]
  },
  {
   "cell_type": "code",
   "execution_count": 41,
   "id": "2a82123b",
   "metadata": {},
   "outputs": [
    {
     "data": {
      "text/plain": [
       "array([ 38,  13, 100, 100], dtype=int64)"
      ]
     },
     "execution_count": 41,
     "metadata": {},
     "output_type": "execute_result"
    }
   ],
   "source": [
    "svm_predictions = svm.predict(X_test)\n",
    "rf_predictions = rf.predict(X_test)\n",
    "svm_predictions"
   ]
  },
  {
   "cell_type": "code",
   "execution_count": 42,
   "id": "3f544676",
   "metadata": {},
   "outputs": [
    {
     "data": {
      "text/plain": [
       "array([ 17,  13, 100, 100], dtype=int64)"
      ]
     },
     "execution_count": 42,
     "metadata": {},
     "output_type": "execute_result"
    }
   ],
   "source": [
    "rf_predictions"
   ]
  },
  {
   "cell_type": "code",
   "execution_count": null,
   "id": "2f040b7b",
   "metadata": {},
   "outputs": [],
   "source": []
  }
 ],
 "metadata": {
  "kernelspec": {
   "display_name": "Python 3 (ipykernel)",
   "language": "python",
   "name": "python3"
  },
  "language_info": {
   "codemirror_mode": {
    "name": "ipython",
    "version": 3
   },
   "file_extension": ".py",
   "mimetype": "text/x-python",
   "name": "python",
   "nbconvert_exporter": "python",
   "pygments_lexer": "ipython3",
   "version": "3.9.15"
  }
 },
 "nbformat": 4,
 "nbformat_minor": 5
}
