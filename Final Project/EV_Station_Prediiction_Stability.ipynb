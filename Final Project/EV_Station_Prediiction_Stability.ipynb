{
 "cells": [
  {
   "cell_type": "code",
   "execution_count": 7,
   "id": "d0d0028a",
   "metadata": {},
   "outputs": [],
   "source": [
    "import numpy as np\n",
    "import pandas as pd\n",
    "import torch\n",
    "from sklearn.model_selection import train_test_split\n",
    "\n",
    "from matplotlib import pyplot as plt\n",
    "import torch.nn as nn\n",
    "import seaborn as sns\n",
    "from sklearn.preprocessing import StandardScaler\n",
    "from collections import OrderedDict\n",
    "import torch.optim as optim\n",
    "import warnings\n",
    "warnings.filterwarnings(\"ignore\")\n",
    "from sklearn.linear_model import LinearRegression\n",
    "from sklearn.metrics import mean_squared_error, mean_absolute_error\n",
    "from sklearn import preprocessing\n",
    "\n",
    "\n",
    "import datetime\n",
    "from sklearn import linear_model"
   ]
  },
  {
   "cell_type": "code",
   "execution_count": 17,
   "id": "4e27dfc6",
   "metadata": {},
   "outputs": [
    {
     "data": {
      "text/html": [
       "<div>\n",
       "<style scoped>\n",
       "    .dataframe tbody tr th:only-of-type {\n",
       "        vertical-align: middle;\n",
       "    }\n",
       "\n",
       "    .dataframe tbody tr th {\n",
       "        vertical-align: top;\n",
       "    }\n",
       "\n",
       "    .dataframe thead th {\n",
       "        text-align: right;\n",
       "    }\n",
       "</style>\n",
       "<table border=\"1\" class=\"dataframe\">\n",
       "  <thead>\n",
       "    <tr style=\"text-align: right;\">\n",
       "      <th></th>\n",
       "      <th>Data_Status</th>\n",
       "      <th>MSN</th>\n",
       "      <th>StateCode</th>\n",
       "      <th>Year</th>\n",
       "      <th>Data</th>\n",
       "    </tr>\n",
       "  </thead>\n",
       "  <tbody>\n",
       "    <tr>\n",
       "      <th>0</th>\n",
       "      <td>2020F</td>\n",
       "      <td>ABICB</td>\n",
       "      <td>AK</td>\n",
       "      <td>1960</td>\n",
       "      <td>0.0</td>\n",
       "    </tr>\n",
       "    <tr>\n",
       "      <th>1</th>\n",
       "      <td>2020F</td>\n",
       "      <td>ABICB</td>\n",
       "      <td>AK</td>\n",
       "      <td>1961</td>\n",
       "      <td>0.0</td>\n",
       "    </tr>\n",
       "    <tr>\n",
       "      <th>2</th>\n",
       "      <td>2020F</td>\n",
       "      <td>ABICB</td>\n",
       "      <td>AK</td>\n",
       "      <td>1962</td>\n",
       "      <td>0.0</td>\n",
       "    </tr>\n",
       "    <tr>\n",
       "      <th>3</th>\n",
       "      <td>2020F</td>\n",
       "      <td>ABICB</td>\n",
       "      <td>AK</td>\n",
       "      <td>1963</td>\n",
       "      <td>0.0</td>\n",
       "    </tr>\n",
       "    <tr>\n",
       "      <th>4</th>\n",
       "      <td>2020F</td>\n",
       "      <td>ABICB</td>\n",
       "      <td>AK</td>\n",
       "      <td>1964</td>\n",
       "      <td>0.0</td>\n",
       "    </tr>\n",
       "  </tbody>\n",
       "</table>\n",
       "</div>"
      ],
      "text/plain": [
       "  Data_Status    MSN StateCode  Year  Data\n",
       "0       2020F  ABICB        AK  1960   0.0\n",
       "1       2020F  ABICB        AK  1961   0.0\n",
       "2       2020F  ABICB        AK  1962   0.0\n",
       "3       2020F  ABICB        AK  1963   0.0\n",
       "4       2020F  ABICB        AK  1964   0.0"
      ]
     },
     "execution_count": 17,
     "metadata": {},
     "output_type": "execute_result"
    }
   ],
   "source": [
    "EV_Stations = pd.DataFrame(pd.read_csv('Complete_SEDS.csv'))\n",
    "EV_Stations.head()"
   ]
  },
  {
   "cell_type": "code",
   "execution_count": 20,
   "id": "9017d91c",
   "metadata": {},
   "outputs": [
    {
     "data": {
      "text/html": [
       "<div>\n",
       "<style scoped>\n",
       "    .dataframe tbody tr th:only-of-type {\n",
       "        vertical-align: middle;\n",
       "    }\n",
       "\n",
       "    .dataframe tbody tr th {\n",
       "        vertical-align: top;\n",
       "    }\n",
       "\n",
       "    .dataframe thead th {\n",
       "        text-align: right;\n",
       "    }\n",
       "</style>\n",
       "<table border=\"1\" class=\"dataframe\">\n",
       "  <thead>\n",
       "    <tr style=\"text-align: right;\">\n",
       "      <th></th>\n",
       "      <th>Data_Status</th>\n",
       "      <th>MSN</th>\n",
       "      <th>StateCode</th>\n",
       "      <th>Year</th>\n",
       "      <th>Data</th>\n",
       "    </tr>\n",
       "  </thead>\n",
       "  <tbody>\n",
       "    <tr>\n",
       "      <th>2928</th>\n",
       "      <td>2020F</td>\n",
       "      <td>ABICB</td>\n",
       "      <td>WA</td>\n",
       "      <td>1960</td>\n",
       "      <td>0.0</td>\n",
       "    </tr>\n",
       "    <tr>\n",
       "      <th>2929</th>\n",
       "      <td>2020F</td>\n",
       "      <td>ABICB</td>\n",
       "      <td>WA</td>\n",
       "      <td>1961</td>\n",
       "      <td>0.0</td>\n",
       "    </tr>\n",
       "    <tr>\n",
       "      <th>2930</th>\n",
       "      <td>2020F</td>\n",
       "      <td>ABICB</td>\n",
       "      <td>WA</td>\n",
       "      <td>1962</td>\n",
       "      <td>0.0</td>\n",
       "    </tr>\n",
       "    <tr>\n",
       "      <th>2931</th>\n",
       "      <td>2020F</td>\n",
       "      <td>ABICB</td>\n",
       "      <td>WA</td>\n",
       "      <td>1963</td>\n",
       "      <td>0.0</td>\n",
       "    </tr>\n",
       "    <tr>\n",
       "      <th>2932</th>\n",
       "      <td>2020F</td>\n",
       "      <td>ABICB</td>\n",
       "      <td>WA</td>\n",
       "      <td>1964</td>\n",
       "      <td>0.0</td>\n",
       "    </tr>\n",
       "  </tbody>\n",
       "</table>\n",
       "</div>"
      ],
      "text/plain": [
       "     Data_Status    MSN StateCode  Year  Data\n",
       "2928       2020F  ABICB        WA  1960   0.0\n",
       "2929       2020F  ABICB        WA  1961   0.0\n",
       "2930       2020F  ABICB        WA  1962   0.0\n",
       "2931       2020F  ABICB        WA  1963   0.0\n",
       "2932       2020F  ABICB        WA  1964   0.0"
      ]
     },
     "execution_count": 20,
     "metadata": {},
     "output_type": "execute_result"
    }
   ],
   "source": [
    "EV_Stations = EV_Stations[EV_Stations['StateCode']=='WA']\n",
    "EV_Stations.head()"
   ]
  },
  {
   "cell_type": "code",
   "execution_count": 22,
   "id": "5cf18524",
   "metadata": {},
   "outputs": [],
   "source": [
    "X = EV_Stations.iloc[:,:-1].values\n",
    "Y = EV_Stations.iloc[:,1].values\n"
   ]
  },
  {
   "cell_type": "code",
   "execution_count": 23,
   "id": "2d97fbbb",
   "metadata": {},
   "outputs": [
    {
     "data": {
      "text/plain": [
       "array([['2020F', 'ABICB', 'WA', 1960],\n",
       "       ['2020F', 'ABICB', 'WA', 1961],\n",
       "       ['2020F', 'ABICB', 'WA', 1962],\n",
       "       ...,\n",
       "       ['2020F', 'ZWHDP', 'WA', 2018],\n",
       "       ['2020F', 'ZWHDP', 'WA', 2019],\n",
       "       ['2020F', 'ZWHDP', 'WA', 2020]], dtype=object)"
      ]
     },
     "execution_count": 23,
     "metadata": {},
     "output_type": "execute_result"
    }
   ],
   "source": [
    "X"
   ]
  },
  {
   "cell_type": "code",
   "execution_count": 24,
   "id": "cf44e427",
   "metadata": {},
   "outputs": [
    {
     "data": {
      "text/plain": [
       "array(['ABICB', 'ABICB', 'ABICB', ..., 'ZWHDP', 'ZWHDP', 'ZWHDP'],\n",
       "      dtype=object)"
      ]
     },
     "execution_count": 24,
     "metadata": {},
     "output_type": "execute_result"
    }
   ],
   "source": [
    "Y"
   ]
  },
  {
   "cell_type": "code",
   "execution_count": 25,
   "id": "7a94c603",
   "metadata": {},
   "outputs": [],
   "source": [
    "X_train,X_test,Y_train,Y_test = train_test_split(X,Y, test_size = 0.3, random_state=0)"
   ]
  },
  {
   "cell_type": "code",
   "execution_count": null,
   "id": "a2423cdf",
   "metadata": {},
   "outputs": [],
   "source": []
  }
 ],
 "metadata": {
  "kernelspec": {
   "display_name": "Python 3 (ipykernel)",
   "language": "python",
   "name": "python3"
  },
  "language_info": {
   "codemirror_mode": {
    "name": "ipython",
    "version": 3
   },
   "file_extension": ".py",
   "mimetype": "text/x-python",
   "name": "python",
   "nbconvert_exporter": "python",
   "pygments_lexer": "ipython3",
   "version": "3.9.12"
  }
 },
 "nbformat": 4,
 "nbformat_minor": 5
}
