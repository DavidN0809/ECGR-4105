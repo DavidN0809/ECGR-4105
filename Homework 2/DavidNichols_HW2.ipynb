{
 "cells": [
  {
   "cell_type": "code",
   "execution_count": null,
   "id": "1fe1e75a",
   "metadata": {},
   "outputs": [],
   "source": [
    "#############################################################################\n",
    "#David Nichols\n",
    "#4105 HW 2\n",
    "#https://github.com/DavidN0809/ECGR-4105/tree/main/Homework%202\n",
    "#############################################################################"
   ]
  },
  {
   "cell_type": "code",
   "execution_count": null,
   "id": "512e57d6",
   "metadata": {},
   "outputs": [],
   "source": [
    "import numpy as np\n",
    "import pandas as pd\n",
    "import matplotlib.pyplot as plt\n",
    "from sklearn.model_selection import KFold\n",
    "from sklearn.model_selection import cross_val_score\n",
    "from sklearn.linear_model import LogisticRegression\n",
    "from sklearn import datasets\n",
    "from sklearn.metrics import confusion_matrix\n",
    "from sklearn.metrics import classification_report\n",
    "from sklearn.model_selection import train_test_split\n",
    "import seaborn as sns\n",
    "from matplotlib.colors import ListedColormap\n",
    "from sklearn.preprocessing import StandardScaler\n",
    "from sklearn import metrics \n",
    "from sklearn.naive_bayes import GaussianNB\n",
    "import warnings\n",
    "warnings.filterwarnings(\"ignore\")"
   ]
  },
  {
   "cell_type": "code",
   "execution_count": null,
   "id": "35ffefc5",
   "metadata": {},
   "outputs": [],
   "source": [
    "iris = datasets.load_iris()\n",
    "X=iris.data\n",
    "y=iris.target"
   ]
  },
  {
   "cell_type": "code",
   "execution_count": null,
   "id": "a06be56a",
   "metadata": {},
   "outputs": [],
   "source": [
    "X_train, X_test, y_train, y_test = train_test_split(X, y, test_size = 0.2, random_state=5)"
   ]
  },
  {
   "cell_type": "code",
   "execution_count": null,
   "id": "060d41ed",
   "metadata": {},
   "outputs": [],
   "source": [
    "sc = StandardScaler()\n",
    "\n",
    "X_train_std = sc.fit_transform(X_train)\n",
    "X_test_std = sc.transform(X_test)"
   ]
  },
  {
   "cell_type": "code",
   "execution_count": null,
   "id": "f460cf7f",
   "metadata": {},
   "outputs": [],
   "source": [
    "C = [10, 1, 0.1, 0.001]\n",
    "for c in C:\n",
    "    clf = LogisticRegression(penalty='l1', C=c, solver='liblinear')\n",
    "    clf.fit(X_train, y_train)\n",
    "    print('C:',c)\n",
    "    print('Training accuracy', clf.score(X_train_std, y_train))\n",
    "    print('Test accuracy:', clf.score(X_test_std,y_test))\n",
    "    print('')"
   ]
  },
  {
   "cell_type": "code",
   "execution_count": null,
   "id": "eaa757ad",
   "metadata": {},
   "outputs": [],
   "source": [
    "kfold = KFold(n_splits=5, random_state=0, shuffle=True)\n",
    "model = LogisticRegression(solver='liblinear')\n",
    "results = cross_val_score(model, X, y, cv=kfold)\n",
    "print(\"Accuracy: %.3f%% (%.3f%%)\" % (results.mean()*100.0, results.std()*100.0))"
   ]
  },
  {
   "cell_type": "code",
   "execution_count": null,
   "id": "ed662da3",
   "metadata": {},
   "outputs": [],
   "source": [
    "test_size = 0.80\n",
    "seed = 0\n",
    "X_train, X_test, Y_train, Y_test = train_test_split(X, y, test_size=test_size, random_state=seed)\n",
    "model = LogisticRegression(solver='liblinear')\n",
    "model.fit(X_train, Y_train)\n",
    "predicted = model.predict(X_test)\n",
    "matrix = confusion_matrix(Y_test, predicted)\n",
    "print(matrix)"
   ]
  },
  {
   "cell_type": "code",
   "execution_count": null,
   "id": "f697d3c2",
   "metadata": {},
   "outputs": [],
   "source": [
    "test_size = 0.80\n",
    "seed = 0;\n",
    "X_train, X_test, Y_train, Y_test = train_test_split(X, y, test_size=test_size, random_state=seed)\n",
    "model = LogisticRegression(solver='liblinear')\n",
    "model.fit(X_train, Y_train)\n",
    "predicted = model.predict(X_test)\n",
    "report = classification_report(Y_test, predicted)\n",
    "print(report)"
   ]
  },
  {
   "cell_type": "code",
   "execution_count": null,
   "id": "693a5a7b",
   "metadata": {},
   "outputs": [],
   "source": [
    "class_names=[0,1]\n",
    "fig, ax = plt.subplots()\n",
    "tick_marks = np.arange(len(class_names))\n",
    "plt.xticks(tick_marks, class_names)\n",
    "plt.yticks(tick_marks,class_names)\n",
    "sns.heatmap(pd.DataFrame(matrix), annot = True, cmap = \"YlGnBu\", fmt='g')\n",
    "ax.xaxis.set_label_position(\"top\")\n",
    "plt.tight_layout()\n",
    "plt.title('Confusion matrix', y=1.1)\n",
    "plt.ylabel('Actual Label')\n",
    "plt.xlabel('Predicted label')"
   ]
  },
  {
   "cell_type": "code",
   "execution_count": null,
   "id": "91528e1c",
   "metadata": {},
   "outputs": [],
   "source": [
    "#GIVEN CODE\n",
    "#Problem 1"
   ]
  },
  {
   "cell_type": "code",
   "execution_count": null,
   "id": "b50c8cf9",
   "metadata": {},
   "outputs": [],
   "source": [
    "raw_data = pd.read_csv('diabetes.csv')\n",
    "raw_data"
   ]
  },
  {
   "cell_type": "code",
   "execution_count": null,
   "id": "4d7b8445",
   "metadata": {},
   "outputs": [],
   "source": [
    "def matrix_print(matrix):\n",
    "    class_names=[0,1]\n",
    "    fig, ax = plt.subplots()\n",
    "    tick_marks = np.arange(len(class_names))\n",
    "    plt.xticks(tick_marks, class_names)\n",
    "    plt.yticks(tick_marks,class_names)\n",
    "    sns.heatmap(pd.DataFrame(matrix), annot = True, cmap = \"YlGnBu\", fmt='g')\n",
    "    ax.xaxis.set_label_position(\"top\")\n",
    "    plt.tight_layout()\n",
    "    plt.title('Confusion matrix', y=1.1)\n",
    "    plt.ylabel('Actual Label')\n",
    "    plt.xlabel('Predicted label')"
   ]
  },
  {
   "cell_type": "code",
   "execution_count": null,
   "id": "285fb068",
   "metadata": {},
   "outputs": [],
   "source": [
    "def metrics_print(y_pred):\n",
    "    print(\"Accuracy:\", metrics.accuracy_score(Y_test, y_pred))\n",
    "    print(\"Precision:\", metrics.precision_score(Y_test, y_pred))\n",
    "    print(\"Recall:\", metrics.recall_score(Y_test, y_pred))"
   ]
  },
  {
   "cell_type": "code",
   "execution_count": null,
   "id": "30eda043",
   "metadata": {},
   "outputs": [],
   "source": [
    "varlist = ['Pregnancies', 'Glucose', 'BloodPressure', 'SkinThickness', 'Insulin', 'BMI', 'DiabetesPedigreeFunction', 'Age']\n",
    "raw_x = raw_data[varlist]\n",
    "raw_y = raw_data['Outcome']"
   ]
  },
  {
   "cell_type": "code",
   "execution_count": null,
   "id": "82a0d83b",
   "metadata": {},
   "outputs": [],
   "source": [
    "X_train, X_test, Y_train, Y_test = train_test_split(raw_x, raw_y, test_size = 0.20, random_state = 5)\n",
    "sc_X = StandardScaler()\n",
    "X_train = sc_X.fit_transform(X_train)\n",
    "X_test = sc_X.transform(X_test)\n",
    "#scaling and transforming before classifying"
   ]
  },
  {
   "cell_type": "code",
   "execution_count": null,
   "id": "76d7a8a8",
   "metadata": {},
   "outputs": [],
   "source": [
    "classifier = LogisticRegression(random_state=0) \n",
    "classifier.fit(X_train, Y_train)"
   ]
  },
  {
   "cell_type": "code",
   "execution_count": null,
   "id": "8ad35fce",
   "metadata": {},
   "outputs": [],
   "source": [
    "Y_pred = classifier.predict(X_test) "
   ]
  },
  {
   "cell_type": "code",
   "execution_count": null,
   "id": "7114a094",
   "metadata": {},
   "outputs": [],
   "source": [
    "Y_pred[0:9] "
   ]
  },
  {
   "cell_type": "code",
   "execution_count": null,
   "id": "b9f653ab",
   "metadata": {},
   "outputs": [],
   "source": [
    "cnf_matrix = confusion_matrix(Y_test, Y_pred) \n",
    "cnf_matrix "
   ]
  },
  {
   "cell_type": "code",
   "execution_count": null,
   "id": "4ed5b11b",
   "metadata": {},
   "outputs": [],
   "source": [
    "metrics_print(Y_pred)"
   ]
  },
  {
   "cell_type": "code",
   "execution_count": null,
   "id": "9b2f51c8",
   "metadata": {},
   "outputs": [],
   "source": [
    "matrix_print(cnf_matrix)"
   ]
  },
  {
   "cell_type": "code",
   "execution_count": null,
   "id": "7bc7cb91",
   "metadata": {},
   "outputs": [],
   "source": [
    "#problem 2"
   ]
  },
  {
   "cell_type": "code",
   "execution_count": null,
   "id": "fa027241",
   "metadata": {},
   "outputs": [],
   "source": [
    "kfold = KFold(n_splits=5, random_state=0, shuffle=True)\n",
    "model = LogisticRegression(solver='liblinear')\n",
    "results = cross_val_score(classifier, X_train, Y_train, cv=kfold)\n",
    "print(\"Accuracy of 5 kfold: %.3f%% (%.3f%%)\" % (results.mean()*100.0, results.std()*100.0))"
   ]
  },
  {
   "cell_type": "code",
   "execution_count": null,
   "id": "b1283fe4",
   "metadata": {},
   "outputs": [],
   "source": [
    "kfold = KFold(n_splits=10, random_state=0, shuffle=True)\n",
    "model = LogisticRegression(solver='liblinear')\n",
    "results = cross_val_score(classifier, X_train, Y_train, cv=kfold)\n",
    "print(\"Accuracy of 10 kfold: %.3f%% (%.3f%%)\" % (results.mean()*100.0, results.std()*100.0))"
   ]
  },
  {
   "cell_type": "code",
   "execution_count": null,
   "id": "4c17b5ed",
   "metadata": {},
   "outputs": [],
   "source": [
    "print(\"Accuracy of problem 1\")\n",
    "metrics_print(Y_pred)\n",
    "#As you can see problems 1 accuracy is higher"
   ]
  },
  {
   "cell_type": "code",
   "execution_count": null,
   "id": "b8dfb829",
   "metadata": {},
   "outputs": [],
   "source": [
    "NB_classifier = GaussianNB()\n",
    "NB_classifier.fit(X_train, Y_train)\n",
    "NB_Y_predicition = NB_classifier.predict(X_test)\n",
    "NB_Matrix = confusion_matrix(Y_test, NB_Y_predicition)\n",
    "matrix_print(NB_Matrix)"
   ]
  },
  {
   "cell_type": "code",
   "execution_count": null,
   "id": "0427f860",
   "metadata": {},
   "outputs": [],
   "source": [
    "#problem 3"
   ]
  },
  {
   "cell_type": "code",
   "execution_count": null,
   "id": "4b1ab68b",
   "metadata": {},
   "outputs": [],
   "source": [
    "from sklearn.datasets import load_breast_cancer \n",
    "breast = load_breast_cancer()\n",
    "breast_data = breast.data\n",
    "breast_data.shape"
   ]
  },
  {
   "cell_type": "code",
   "execution_count": null,
   "id": "5d72bc66",
   "metadata": {},
   "outputs": [],
   "source": [
    "breat_input=pd.DataFrame(breast_data)\n",
    "breat_input.head()"
   ]
  },
  {
   "cell_type": "code",
   "execution_count": null,
   "id": "73328a5d",
   "metadata": {},
   "outputs": [],
   "source": [
    "breast_labels = breast.target\n",
    "breast_labels.shape"
   ]
  },
  {
   "cell_type": "code",
   "execution_count": null,
   "id": "2934ef05",
   "metadata": {},
   "outputs": [],
   "source": [
    "labels = np.reshape(breast_labels, (569,1))\n",
    "final_breast_data = np.concatenate([breast_data,labels], axis=1)\n",
    "final_breast_data.shape"
   ]
  },
  {
   "cell_type": "code",
   "execution_count": null,
   "id": "4ac9a3ba",
   "metadata": {},
   "outputs": [],
   "source": [
    "breast_dataset= pd.DataFrame(final_breast_data)\n",
    "features = breast.feature_names\n",
    "features_labels = np.append(features, 'label')\n",
    "breast_dataset.columns = features_labels\n",
    "breast_dataset"
   ]
  },
  {
   "cell_type": "code",
   "execution_count": null,
   "id": "e3ac91e5",
   "metadata": {},
   "outputs": [],
   "source": [
    "breast_dataset['label'].replace(0,'Benign',inplace=True)\n",
    "breast_dataset['label'].replace(1,'Malignant',inplace=True)"
   ]
  },
  {
   "cell_type": "code",
   "execution_count": null,
   "id": "56a189c5",
   "metadata": {},
   "outputs": [],
   "source": [
    "X_train, X_test, Y_train, Y_test = train_test_split(raw_x, raw_y, test_size = 0.20, random_state = 5)\n",
    "sc_X = StandardScaler()\n",
    "X_train = sc_X.fit_transform(X_train)\n",
    "X_test = sc_X.transform(X_test)\n",
    "#scaling and transforming before classifying\n",
    "\n",
    "classifier = LogisticRegression(random_state=0) \n",
    "classifier.fit(X_train, Y_train)"
   ]
  },
  {
   "cell_type": "code",
   "execution_count": null,
   "id": "45bf5d29",
   "metadata": {},
   "outputs": [],
   "source": [
    "Y_pred = classifier.predict(X_test) \n",
    "Y_pred[0:9] "
   ]
  },
  {
   "cell_type": "code",
   "execution_count": null,
   "id": "82189137",
   "metadata": {},
   "outputs": [],
   "source": [
    "cnf_matrix = confusion_matrix(Y_test, Y_pred) \n",
    "cnf_matrix "
   ]
  },
  {
   "cell_type": "code",
   "execution_count": null,
   "id": "c496d277",
   "metadata": {},
   "outputs": [],
   "source": [
    "metrics_print(Y_pred)"
   ]
  },
  {
   "cell_type": "code",
   "execution_count": null,
   "id": "f286e4d2",
   "metadata": {},
   "outputs": [],
   "source": [
    "matrix_print(cnf_matrix)"
   ]
  },
  {
   "cell_type": "code",
   "execution_count": null,
   "id": "bd90b456",
   "metadata": {},
   "outputs": [],
   "source": [
    "#Problem 4"
   ]
  },
  {
   "cell_type": "code",
   "execution_count": null,
   "id": "fe0aba62",
   "metadata": {},
   "outputs": [],
   "source": [
    "kfold = KFold(n_splits=5, random_state=0, shuffle=True)\n",
    "model = LogisticRegression(solver='liblinear')\n",
    "results = cross_val_score(classifier, X_train, Y_train, cv=kfold)\n",
    "print(\"Accuracy of 5 kfold: %.3f%% (%.3f%%)\" % (results.mean()*100.0, results.std()*100.0))"
   ]
  },
  {
   "cell_type": "code",
   "execution_count": null,
   "id": "bf9dfc13",
   "metadata": {},
   "outputs": [],
   "source": [
    "kfold = KFold(n_splits=10, random_state=0, shuffle=True)\n",
    "model = LogisticRegression(solver='liblinear')\n",
    "results = cross_val_score(classifier, X_train, Y_train, cv=kfold)\n",
    "print(\"Accuracy of 10 kfold: %.3f%% (%.3f%%)\" % (results.mean()*100.0, results.std()*100.0))"
   ]
  },
  {
   "cell_type": "code",
   "execution_count": null,
   "id": "872577de",
   "metadata": {},
   "outputs": [],
   "source": []
  }
 ],
 "metadata": {
  "kernelspec": {
   "display_name": "Python 3.11.0 64-bit",
   "language": "python",
   "name": "python3"
  },
  "language_info": {
   "codemirror_mode": {
    "name": "ipython",
    "version": 3
   },
   "file_extension": ".py",
   "mimetype": "text/x-python",
   "name": "python",
   "nbconvert_exporter": "python",
   "pygments_lexer": "ipython3",
   "version": "3.11.0"
  },
  "vscode": {
   "interpreter": {
    "hash": "56fb3642a0b96680faebdf88793e897cc00243c198267a184525eb85ec0a2ab5"
   }
  }
 },
 "nbformat": 4,
 "nbformat_minor": 5
}
